{
 "cells": [
  {
   "cell_type": "markdown",
   "metadata": {},
   "source": [
    "# Deep Neural Network Visualization - Create Models\n",
    "<hr>"
   ]
  },
  {
   "cell_type": "markdown",
   "metadata": {},
   "source": [
    "# 0. Setup Libraries"
   ]
  },
  {
   "cell_type": "code",
   "execution_count": 1,
   "metadata": {
    "collapsed": false
   },
   "outputs": [
    {
     "name": "stderr",
     "output_type": "stream",
     "text": [
      "Using TensorFlow backend.\n"
     ]
    }
   ],
   "source": [
    "import os\n",
    "os.environ['TF_CPP_MIN_LOG_LEVEL']='2'\n",
    "\n",
    "import keras"
   ]
  },
  {
   "cell_type": "code",
   "execution_count": 52,
   "metadata": {
    "collapsed": true
   },
   "outputs": [],
   "source": [
    "from keras.datasets import mnist\n",
    "from keras.models import Sequential\n",
    "\n",
    "from keras.layers import Dense, Dropout, Activation, Flatten\n",
    "from keras.layers import Conv2D, MaxPooling2D\n",
    "\n",
    "from keras.utils import np_utils\n",
    "from keras.callbacks import EarlyStopping, ModelCheckpoint\n",
    "\n",
    "from keras.optimizers import RMSprop\n",
    "from keras.models import model_from_json"
   ]
  },
  {
   "cell_type": "code",
   "execution_count": 3,
   "metadata": {
    "collapsed": true
   },
   "outputs": [],
   "source": [
    "import seaborn as sns\n",
    "import matplotlib.pyplot as plt\n",
    "import matplotlib.image as mpimg"
   ]
  },
  {
   "cell_type": "code",
   "execution_count": 4,
   "metadata": {
    "collapsed": true
   },
   "outputs": [],
   "source": [
    "import numpy as np\n",
    "import scipy\n",
    "import re"
   ]
  },
  {
   "cell_type": "code",
   "execution_count": 5,
   "metadata": {
    "collapsed": false
   },
   "outputs": [],
   "source": [
    "from PIL import Image"
   ]
  },
  {
   "cell_type": "code",
   "execution_count": 6,
   "metadata": {
    "collapsed": true
   },
   "outputs": [],
   "source": [
    "import codecs\n",
    "import json "
   ]
  },
  {
   "cell_type": "markdown",
   "metadata": {},
   "source": [
    "### Set Current Path"
   ]
  },
  {
   "cell_type": "code",
   "execution_count": 7,
   "metadata": {
    "collapsed": false
   },
   "outputs": [],
   "source": [
    "current_path = os.getcwd()\n",
    "os.chdir(current_path)"
   ]
  },
  {
   "cell_type": "code",
   "execution_count": 59,
   "metadata": {
    "collapsed": true
   },
   "outputs": [],
   "source": [
    "WEIGHTS_FILEPATH = 'models/mnist_cnn.hdf5'\n",
    "MODEL_ARCH_FILEPATH = 'models/mnist_cnn.json'"
   ]
  },
  {
   "cell_type": "markdown",
   "metadata": {},
   "source": [
    "# 1. Setup Training / Test Data"
   ]
  },
  {
   "cell_type": "markdown",
   "metadata": {},
   "source": [
    "### A. Load MNIST Dataset"
   ]
  },
  {
   "cell_type": "markdown",
   "metadata": {},
   "source": [
    "### X data (features)"
   ]
  },
  {
   "cell_type": "code",
   "execution_count": 35,
   "metadata": {
    "collapsed": false
   },
   "outputs": [
    {
     "name": "stdout",
     "output_type": "stream",
     "text": [
      "X_train shape: (60000, 28, 28, 1)\n",
      "60000 train samples\n",
      "10000 test samples\n",
      "Input layer shape: (28, 28, 1)\n"
     ]
    }
   ],
   "source": [
    "#image rows, cols\n",
    "img_rows = 28\n",
    "img_cols = 28\n",
    "\n",
    "# the data, shuffled and split between train and test sets\n",
    "(X_train, y_train), (X_test, y_test) = mnist.load_data()\n",
    "X_train = X_train.reshape(X_train.shape[0], img_rows, img_cols, 1)\n",
    "X_test = X_test.reshape(X_test.shape[0], img_rows, img_cols, 1)\n",
    "\n",
    "# Set input layer shape\n",
    "input_shape = (img_rows, img_cols, 1)\n",
    "\n",
    "# Set data type\n",
    "X_train = X_train.astype('float32')\n",
    "X_test = X_test.astype('float32')\n",
    "\n",
    "# Normalize values\n",
    "X_train /= 255\n",
    "X_test /= 255\n",
    "\n",
    "\n",
    "print('X_train shape:', X_train.shape)\n",
    "print(X_train.shape[0], 'train samples')\n",
    "print(X_test.shape[0], 'test samples')\n",
    "print(\"Input layer shape:\", input_shape)"
   ]
  },
  {
   "cell_type": "markdown",
   "metadata": {},
   "source": [
    "### Y data (labels)"
   ]
  },
  {
   "cell_type": "code",
   "execution_count": 70,
   "metadata": {
    "collapsed": false
   },
   "outputs": [],
   "source": [
    "num_classes = 10\n",
    "\n",
    "# Convert y_train and y_test to categorical datatypes\n",
    "Y_train = keras.utils.to_categorical(y_train, num_classes)\n",
    "Y_test = keras.utils.to_categorical(y_test, num_classes)"
   ]
  },
  {
   "cell_type": "markdown",
   "metadata": {},
   "source": [
    "# 2. Construct Model"
   ]
  },
  {
   "cell_type": "markdown",
   "metadata": {},
   "source": [
    "### i. Setup Create New Model Function"
   ]
  },
  {
   "cell_type": "code",
   "execution_count": 55,
   "metadata": {
    "collapsed": false
   },
   "outputs": [],
   "source": [
    "def create_new_model(summary=True):\n",
    "    \n",
    "    model = Sequential()\n",
    "    model.add(Conv2D(filters=32, kernel_size=(3, 3), padding='valid', input_shape=input_shape, data_format = \"channels_last\"))\n",
    "    model.add(Activation('relu'))\n",
    "    model.add(Conv2D(filters=32, kernel_size=(3, 3), padding='valid', data_format = \"channels_last\"))\n",
    "    model.add(Activation('relu'))\n",
    "    model.add(MaxPooling2D(pool_size=(2, 2), padding='valid', data_format = \"channels_last\"))\n",
    "    model.add(Dropout(0.25))\n",
    "    model.add(Flatten())\n",
    "    model.add(Dense(128))\n",
    "    model.add(Activation('relu'))\n",
    "    model.add(Dropout(0.5))\n",
    "    model.add(Dense(num_classes))\n",
    "    model.add(Activation('softmax'))\n",
    "\n",
    "#     model.compile(loss='categorical_crossentropy', optimizer='adam', metrics=['accuracy'])\n",
    "    model.compile(loss='categorical_crossentropy', optimizer=RMSprop(), metrics=['accuracy'])\n",
    "    \n",
    "    if summary: print(model.summary())\n",
    "    \n",
    "    return model"
   ]
  },
  {
   "cell_type": "markdown",
   "metadata": {},
   "source": [
    "## A. Generate Models"
   ]
  },
  {
   "cell_type": "code",
   "execution_count": 61,
   "metadata": {
    "collapsed": false
   },
   "outputs": [
    {
     "name": "stdout",
     "output_type": "stream",
     "text": [
      "_________________________________________________________________\n",
      "Layer (type)                 Output Shape              Param #   \n",
      "=================================================================\n",
      "conv2d_22 (Conv2D)           (None, 26, 26, 32)        320       \n",
      "_________________________________________________________________\n",
      "activation_40 (Activation)   (None, 26, 26, 32)        0         \n",
      "_________________________________________________________________\n",
      "conv2d_23 (Conv2D)           (None, 24, 24, 32)        9248      \n",
      "_________________________________________________________________\n",
      "activation_41 (Activation)   (None, 24, 24, 32)        0         \n",
      "_________________________________________________________________\n",
      "max_pooling2d_11 (MaxPooling (None, 12, 12, 32)        0         \n",
      "_________________________________________________________________\n",
      "dropout_21 (Dropout)         (None, 12, 12, 32)        0         \n",
      "_________________________________________________________________\n",
      "flatten_11 (Flatten)         (None, 4608)              0         \n",
      "_________________________________________________________________\n",
      "dense_20 (Dense)             (None, 128)               589952    \n",
      "_________________________________________________________________\n",
      "activation_42 (Activation)   (None, 128)               0         \n",
      "_________________________________________________________________\n",
      "dropout_22 (Dropout)         (None, 128)               0         \n",
      "_________________________________________________________________\n",
      "dense_21 (Dense)             (None, 10)                1290      \n",
      "_________________________________________________________________\n",
      "activation_43 (Activation)   (None, 10)                0         \n",
      "=================================================================\n",
      "Total params: 600,810.0\n",
      "Trainable params: 600,810.0\n",
      "Non-trainable params: 0.0\n",
      "_________________________________________________________________\n",
      "None\n"
     ]
    }
   ],
   "source": [
    "model = create_new_model()"
   ]
  },
  {
   "cell_type": "markdown",
   "metadata": {},
   "source": [
    "# 3. Train Models"
   ]
  },
  {
   "cell_type": "markdown",
   "metadata": {},
   "source": [
    "### i. Setup Train Parameters"
   ]
  },
  {
   "cell_type": "code",
   "execution_count": 68,
   "metadata": {
    "collapsed": false
   },
   "outputs": [],
   "source": [
    "# Model saving callback\n",
    "checkpointer = ModelCheckpoint(filepath=WEIGHTS_FILEPATH, monitor='val_acc', verbose=1, save_best_only=True)\n",
    "\n",
    "# Early stopping\n",
    "early_stopping = EarlyStopping(monitor='val_acc', verbose=1, patience=5)"
   ]
  },
  {
   "cell_type": "markdown",
   "metadata": {},
   "source": [
    "## A. Train"
   ]
  },
  {
   "cell_type": "code",
   "execution_count": 74,
   "metadata": {
    "collapsed": false
   },
   "outputs": [
    {
     "name": "stdout",
     "output_type": "stream",
     "text": [
      "Train on 60000 samples, validate on 10000 samples\n",
      "Epoch 1/10\n",
      "59904/60000 [============================>.] - ETA: 0s - loss: 0.1291 - acc: 0.9627Epoch 00000: val_acc improved from -inf to 0.98310, saving model to models/mnist_cnn.hdf5\n",
      "60000/60000 [==============================] - 83s - loss: 0.1291 - acc: 0.9628 - val_loss: 0.0489 - val_acc: 0.9831\n",
      "Epoch 2/10\n",
      "59904/60000 [============================>.] - ETA: 0s - loss: 0.0819 - acc: 0.9763Epoch 00001: val_acc improved from 0.98310 to 0.98770, saving model to models/mnist_cnn.hdf5\n",
      "60000/60000 [==============================] - 110s - loss: 0.0818 - acc: 0.9763 - val_loss: 0.0389 - val_acc: 0.9877\n",
      "Epoch 3/10\n",
      "59904/60000 [============================>.] - ETA: 0s - loss: 0.0647 - acc: 0.9811Epoch 00002: val_acc did not improve\n",
      "60000/60000 [==============================] - 103s - loss: 0.0647 - acc: 0.9811 - val_loss: 0.0379 - val_acc: 0.9877\n",
      "Epoch 4/10\n",
      "59904/60000 [============================>.] - ETA: 0s - loss: 0.0571 - acc: 0.9836Epoch 00003: val_acc improved from 0.98770 to 0.98820, saving model to models/mnist_cnn.hdf5\n",
      "60000/60000 [==============================] - 100s - loss: 0.0571 - acc: 0.9836 - val_loss: 0.0332 - val_acc: 0.9882\n",
      "Epoch 5/10\n",
      "59904/60000 [============================>.] - ETA: 0s - loss: 0.0531 - acc: 0.9845Epoch 00004: val_acc improved from 0.98820 to 0.98890, saving model to models/mnist_cnn.hdf5\n",
      "60000/60000 [==============================] - 103s - loss: 0.0531 - acc: 0.9845 - val_loss: 0.0359 - val_acc: 0.9889\n",
      "Epoch 6/10\n",
      "59904/60000 [============================>.] - ETA: 0s - loss: 0.0484 - acc: 0.9855Epoch 00005: val_acc did not improve\n",
      "60000/60000 [==============================] - 104s - loss: 0.0483 - acc: 0.9855 - val_loss: 0.0377 - val_acc: 0.9885\n",
      "Epoch 7/10\n",
      "59904/60000 [============================>.] - ETA: 0s - loss: 0.0455 - acc: 0.9862Epoch 00006: val_acc improved from 0.98890 to 0.98980, saving model to models/mnist_cnn.hdf5\n",
      "60000/60000 [==============================] - 100s - loss: 0.0455 - acc: 0.9862 - val_loss: 0.0350 - val_acc: 0.9898\n",
      "Epoch 8/10\n",
      "59904/60000 [============================>.] - ETA: 0s - loss: 0.0441 - acc: 0.9871Epoch 00007: val_acc improved from 0.98980 to 0.99140, saving model to models/mnist_cnn.hdf5\n",
      "60000/60000 [==============================] - 250s - loss: 0.0441 - acc: 0.9871 - val_loss: 0.0287 - val_acc: 0.9914\n",
      "Epoch 9/10\n",
      "59904/60000 [============================>.] - ETA: 0s - loss: 0.0430 - acc: 0.9875Epoch 00008: val_acc did not improve\n",
      "60000/60000 [==============================] - 82s - loss: 0.0429 - acc: 0.9875 - val_loss: 0.0302 - val_acc: 0.9902\n",
      "Epoch 10/10\n",
      "59904/60000 [============================>.] - ETA: 0s - loss: 0.0434 - acc: 0.9877Epoch 00009: val_acc did not improve\n",
      "60000/60000 [==============================] - 101s - loss: 0.0434 - acc: 0.9877 - val_loss: 0.0367 - val_acc: 0.9893\n"
     ]
    },
    {
     "data": {
      "text/plain": [
       "<keras.callbacks.History at 0x12e5bce10>"
      ]
     },
     "execution_count": 74,
     "metadata": {},
     "output_type": "execute_result"
    }
   ],
   "source": [
    "# Train\n",
    "batch_size = 128\n",
    "nb_epoch = 10\n",
    "model.fit(X_train, Y_train, batch_size=batch_size, epochs=nb_epoch, verbose=1,\n",
    "          callbacks=[checkpointer, early_stopping], \n",
    "          validation_data=(X_test, Y_test))"
   ]
  },
  {
   "cell_type": "markdown",
   "metadata": {},
   "source": [
    "### Evaluate"
   ]
  },
  {
   "cell_type": "code",
   "execution_count": 77,
   "metadata": {
    "collapsed": false
   },
   "outputs": [
    {
     "name": "stdout",
     "output_type": "stream",
     "text": [
      "Test score: 0.0367390792456\n",
      "Test accuracy: 0.9893\n"
     ]
    }
   ],
   "source": [
    "score = model.evaluate(X_test, Y_test, verbose=0)\n",
    "print('Test score:', score[0])\n",
    "print('Test accuracy:', score[1])"
   ]
  },
  {
   "cell_type": "markdown",
   "metadata": {},
   "source": [
    "## Write model architecture to file"
   ]
  },
  {
   "cell_type": "code",
   "execution_count": 78,
   "metadata": {
    "collapsed": true
   },
   "outputs": [],
   "source": [
    "with open(MODEL_ARCH_FILEPATH, 'w') as f:\n",
    "    f.write(model.to_json())"
   ]
  },
  {
   "cell_type": "code",
   "execution_count": 104,
   "metadata": {
    "collapsed": false
   },
   "outputs": [
    {
     "data": {
      "text/plain": [
       "array([[[-0.09619801, -0.06235617, -0.24298619,  0.12582047,  0.11610382,\n",
       "          0.02065499,  0.1746525 ,  0.07747874, -0.14407824,  0.0758962 ,\n",
       "          0.2979863 ,  0.17721416,  0.04880347, -0.05408555,  0.15528202,\n",
       "          0.18977542,  0.16563867,  0.0958864 , -0.11322945,  0.07839781,\n",
       "          0.02619717,  0.08675437, -0.0269716 ,  0.17297088,  0.11209249,\n",
       "         -0.21955177,  0.0250269 ,  0.08523082,  0.11256628,  0.03864916,\n",
       "         -0.27892226,  0.08919671]],\n",
       "\n",
       "       [[ 0.08822806, -0.02846769,  0.02248915, -0.02937719, -0.07059391,\n",
       "          0.10092688,  0.14329018, -0.10540454,  0.10079254,  0.05625694,\n",
       "          0.06817895, -0.12763955,  0.02085434, -0.20298783, -0.02845461,\n",
       "         -0.13320042,  0.11244598, -0.02515994, -0.1372979 ,  0.0402446 ,\n",
       "          0.07967397,  0.03181817,  0.09628937, -0.04353124, -0.08868136,\n",
       "         -0.16106074, -0.08529157,  0.01287851,  0.17321417, -0.08416578,\n",
       "         -0.11089826,  0.05444733]],\n",
       "\n",
       "       [[-0.03543372, -0.05433508, -0.00560712, -0.19217785,  0.12116051,\n",
       "          0.0815522 ,  0.10137697,  0.06875859, -0.22991127,  0.06162867,\n",
       "         -0.12428883, -0.05742172,  0.21849521, -0.18274239,  0.0588373 ,\n",
       "         -0.16306749, -0.01134448, -0.17903811,  0.02427445, -0.11992417,\n",
       "          0.14200385,  0.17910017,  0.23585977, -0.13264747, -0.19975442,\n",
       "         -0.14201117, -0.07741663,  0.10207883,  0.11250485, -0.01107398,\n",
       "         -0.02603343,  0.11820782]]], dtype=float32)"
      ]
     },
     "execution_count": 104,
     "metadata": {},
     "output_type": "execute_result"
    }
   ],
   "source": [
    "len(model.layers[0].get_weights()[0])\n",
    "filter_1 = model.layers[0].get_weights()[0][0]\n",
    "filter_2 = model.layers[0].get_weights()[0][1]\n",
    "filter_3 = model.layers[0].get_weights()[0][2]\n",
    "\n",
    "filter_1"
   ]
  },
  {
   "cell_type": "code",
   "execution_count": 112,
   "metadata": {
    "collapsed": true
   },
   "outputs": [],
   "source": [
    "\n",
    "# utility functions\n",
    "from mpl_toolkits.axes_grid1 import make_axes_locatable\n",
    "\n",
    "def nice_imshow(ax, data, vmin=None, vmax=None, cmap=None):\n",
    "    \"\"\"Wrapper around pl.imshow\"\"\"\n",
    "    if cmap is None:\n",
    "        cmap = cm.jet\n",
    "    if vmin is None:\n",
    "        vmin = data.min()\n",
    "    if vmax is None:\n",
    "        vmax = data.max()\n",
    "    divider = make_axes_locatable(ax)\n",
    "    cax = divider.append_axes(\"right\", size=\"5%\", pad=0.05)\n",
    "    im = ax.imshow(data, vmin=vmin, vmax=vmax, interpolation='nearest', cmap=cmap)\n",
    "    plt.colorbar(im, cax=cax)"
   ]
  },
  {
   "cell_type": "code",
   "execution_count": 205,
   "metadata": {
    "collapsed": true
   },
   "outputs": [],
   "source": [
    "import numpy.ma as ma\n",
    "def make_mosaic(imgs, nrows, ncols, border=1):\n",
    "    \"\"\"\n",
    "    Given a set of images with all the same shape, makes a\n",
    "    mosaic with nrows and ncols\n",
    "    \"\"\"\n",
    "    nimgs = imgs.shape[0]\n",
    "    imshape = imgs.shape[1:][:2]\n",
    "    \n",
    "    mosaic = ma.masked_all((nrows * imshape[0] + (nrows - 1) * border,\n",
    "                            ncols * imshape[1] + (ncols - 1) * border),\n",
    "                            dtype=np.float32)\n",
    "    \n",
    "    paddedh = imshape[0] + border\n",
    "    paddedw = imshape[1] + border\n",
    "    for i in range(nimgs):\n",
    "        row = int(np.floor(i / ncols))\n",
    "        col = i % ncols\n",
    "        print(imgs[i][:,:,-1:-1].shape)\n",
    "        mosaic[row * paddedh:row * paddedh + imshape[0],\n",
    "               col * paddedw:col * paddedw + imshape[1]] = imgs[i].reshape((26, 26))\n",
    "    return mosaic"
   ]
  },
  {
   "cell_type": "code",
   "execution_count": 122,
   "metadata": {
    "collapsed": false
   },
   "outputs": [
    {
     "name": "stdout",
     "output_type": "stream",
     "text": [
      "W shape :  (3, 3, 32)\n"
     ]
    },
    {
     "data": {
      "image/png": "[encoded data removed]",
      "text/plain": [
       "<matplotlib.figure.Figure at 0x122236ac8>"
      ]
     },
     "metadata": {},
     "output_type": "display_data"
    }
   ],
   "source": [
    "import matplotlib.cm as cm\n",
    "%matplotlib inline\n",
    "\n",
    "# Visualize weights\n",
    "W = model.layers[0].get_weights()[0]\n",
    "W = np.squeeze(W)\n",
    "print(\"W shape : \", W.shape)\n",
    "\n",
    "plt.figure(figsize=(15, 15))\n",
    "plt.title('conv1 weights')\n",
    "nice_imshow(plt.gca(), make_mosaic(W, 3, 3), cmap=cm.binary)"
   ]
  },
  {
   "cell_type": "code",
   "execution_count": 199,
   "metadata": {
    "collapsed": false
   },
   "outputs": [],
   "source": [
    "\n",
    "from keras.layers import Input\n",
    "from keras.models import Model\n",
    "class WordEmbeddingEncoder:\n",
    "\n",
    "    def __init__(self, nb_dimensions, nb_outputs):\n",
    "\n",
    "        self.model = Sequential()\n",
    "        self.model.add(Conv2D(filters=32, kernel_size=(3, 3), padding='valid', input_shape=input_shape, data_format = \"channels_last\"))\n",
    "        self.model.add(Activation('relu'))\n",
    "       \n",
    "        self.model.compile(loss='categorical_crossentropy', optimizer=RMSprop(), metrics=['accuracy'])"
   ]
  },
  {
   "cell_type": "code",
   "execution_count": 168,
   "metadata": {
    "collapsed": false
   },
   "outputs": [],
   "source": [
    "ae = WordEmbeddingEncoder(3, 32)\n",
    "X = X_test\n",
    "tmp = ae.model.outputs\n",
    "ae.model.outputs = [ae.model.layers[1].output]\n",
    "y_pred = ae.model.predict(X)"
   ]
  },
  {
   "cell_type": "code",
   "execution_count": 206,
   "metadata": {
    "collapsed": false
   },
   "outputs": [
    {
     "name": "stdout",
     "output_type": "stream",
     "text": [
      "C1 shape :  (10000, 26, 26, 32)\n",
      "(26, 26, 0)\n"
     ]
    },
    {
     "ename": "ValueError",
     "evalue": "cannot reshape array of size 21632 into shape (26,26)",
     "output_type": "error",
     "traceback": [
      "\u001b[0;31m---------------------------------------------------------------------------\u001b[0m",
      "\u001b[0;31mValueError\u001b[0m                                Traceback (most recent call last)",
      "\u001b[0;32m<ipython-input-206-7335e81a0995>\u001b[0m in \u001b[0;36m<module>\u001b[0;34m()\u001b[0m\n\u001b[1;32m      7\u001b[0m \u001b[0mplt\u001b[0m\u001b[0;34m.\u001b[0m\u001b[0mfigure\u001b[0m\u001b[0;34m(\u001b[0m\u001b[0mfigsize\u001b[0m\u001b[0;34m=\u001b[0m\u001b[0;34m(\u001b[0m\u001b[0;36m15\u001b[0m\u001b[0;34m,\u001b[0m \u001b[0;36m15\u001b[0m\u001b[0;34m)\u001b[0m\u001b[0;34m)\u001b[0m\u001b[0;34m\u001b[0m\u001b[0m\n\u001b[1;32m      8\u001b[0m \u001b[0mplt\u001b[0m\u001b[0;34m.\u001b[0m\u001b[0msuptitle\u001b[0m\u001b[0;34m(\u001b[0m\u001b[0;34m'convout1'\u001b[0m\u001b[0;34m)\u001b[0m\u001b[0;34m\u001b[0m\u001b[0m\n\u001b[0;32m----> 9\u001b[0;31m \u001b[0mnice_imshow\u001b[0m\u001b[0;34m(\u001b[0m\u001b[0mplt\u001b[0m\u001b[0;34m.\u001b[0m\u001b[0mgca\u001b[0m\u001b[0;34m(\u001b[0m\u001b[0;34m)\u001b[0m\u001b[0;34m,\u001b[0m \u001b[0mmake_mosaic\u001b[0m\u001b[0;34m(\u001b[0m\u001b[0mC1\u001b[0m\u001b[0;34m,\u001b[0m \u001b[0;36m3\u001b[0m\u001b[0;34m,\u001b[0m \u001b[0;36m3\u001b[0m\u001b[0;34m)\u001b[0m\u001b[0;34m,\u001b[0m \u001b[0mcmap\u001b[0m\u001b[0;34m=\u001b[0m\u001b[0mcm\u001b[0m\u001b[0;34m.\u001b[0m\u001b[0mbinary\u001b[0m\u001b[0;34m)\u001b[0m\u001b[0;34m\u001b[0m\u001b[0m\n\u001b[0m",
      "\u001b[0;32m<ipython-input-205-d77be7cf8b2a>\u001b[0m in \u001b[0;36mmake_mosaic\u001b[0;34m(imgs, nrows, ncols, border)\u001b[0m\n\u001b[1;32m     19\u001b[0m         \u001b[0mprint\u001b[0m\u001b[0;34m(\u001b[0m\u001b[0mimgs\u001b[0m\u001b[0;34m[\u001b[0m\u001b[0mi\u001b[0m\u001b[0;34m]\u001b[0m\u001b[0;34m[\u001b[0m\u001b[0;34m:\u001b[0m\u001b[0;34m,\u001b[0m\u001b[0;34m:\u001b[0m\u001b[0;34m,\u001b[0m\u001b[0;34m-\u001b[0m\u001b[0;36m1\u001b[0m\u001b[0;34m:\u001b[0m\u001b[0;34m-\u001b[0m\u001b[0;36m1\u001b[0m\u001b[0;34m]\u001b[0m\u001b[0;34m.\u001b[0m\u001b[0mshape\u001b[0m\u001b[0;34m)\u001b[0m\u001b[0;34m\u001b[0m\u001b[0m\n\u001b[1;32m     20\u001b[0m         mosaic[row * paddedh:row * paddedh + imshape[0],\n\u001b[0;32m---> 21\u001b[0;31m                col * paddedw:col * paddedw + imshape[1]] = imgs[i].reshape((26, 26))\n\u001b[0m\u001b[1;32m     22\u001b[0m     \u001b[0;32mreturn\u001b[0m \u001b[0mmosaic\u001b[0m\u001b[0;34m\u001b[0m\u001b[0m\n",
      "\u001b[0;31mValueError\u001b[0m: cannot reshape array of size 21632 into shape (26,26)"
     ]
    },
    {
     "data": {
      "image/png": "[encoded data removed]",
      "text/plain": [
       "<matplotlib.figure.Figure at 0x12a92d400>"
      ]
     },
     "metadata": {},
     "output_type": "display_data"
    }
   ],
   "source": [
    "\n",
    "# Visualize convolution result (after activation)\n",
    "C1 = ae.model.predict(X)\n",
    "C1 = np.squeeze(C1)\n",
    "print(\"C1 shape : \", C1.shape)\n",
    "\n",
    "plt.figure(figsize=(15, 15))\n",
    "plt.suptitle('convout1')\n",
    "nice_imshow(plt.gca(), make_mosaic(C1, 3, 3), cmap=cm.binary)"
   ]
  },
  {
   "cell_type": "markdown",
   "metadata": {},
   "source": [
    "## Plot the weight distributions"
   ]
  },
  {
   "cell_type": "code",
   "execution_count": null,
   "metadata": {
    "collapsed": true
   },
   "outputs": [],
   "source": [
    "import pylab as P\n",
    "\n",
    "def _blob(x,y,area,colour):\n",
    "    \"\"\"\n",
    "    Draws a square-shaped blob with the given area (< 1) at\n",
    "    the given coordinates.\n",
    "    \"\"\"\n",
    "    hs = np.sqrt(area) / 2\n",
    "    xcorners = np.array([x - hs, x + hs, x + hs, x - hs])\n",
    "    ycorners = np.array([y - hs, y - hs, y + hs, y + hs])\n",
    "    P.fill(xcorners, ycorners, colour, edgecolor=colour)\n",
    "\n",
    "def hinton(pre_W, maxWeight=None):\n",
    "    \n",
    "    W = np.array(pre_W)\n",
    "    \n",
    "    W = W.reshape(10, 10)\n",
    "    \"\"\"\n",
    "    Draws a Hinton diagram for visualizing a weight matrix. \n",
    "    Temporarily disables matplotlib interactive mode if it is on, \n",
    "    otherwise this takes forever.\n",
    "    \"\"\"\n",
    "    reenable = False\n",
    "    if P.isinteractive():\n",
    "        P.ioff()\n",
    "    P.clf()\n",
    "    height, width = W.shape\n",
    "    if not maxWeight:\n",
    "        maxWeight = 2**np.ceil(np.log(np.max(np.abs(W)))/np.log(2))\n",
    "        \n",
    "    P.fill(np.array([0,width,width,0]),np.array([0,0,height,height]),'gray')\n",
    "    P.axis('off')\n",
    "    P.axis('equal')\n",
    "    for x in range(width):\n",
    "        for y in range(height):\n",
    "            _x = x+1\n",
    "            _y = y+1\n",
    "            w = W[y,x]\n",
    "            if w > 0:\n",
    "                _blob(_x - 0.5, height - _y + 0.5, min(1,w/maxWeight),'white')\n",
    "            elif w < 0:\n",
    "                _blob(_x - 0.5, height - _y + 0.5, min(1,-w/maxWeight),'black')\n",
    "    if reenable:\n",
    "        P.ion()\n",
    "    P.show()"
   ]
  },
  {
   "cell_type": "code",
   "execution_count": null,
   "metadata": {
    "collapsed": false
   },
   "outputs": [],
   "source": [
    "plot_number = 1\n",
    "\n",
    "layer_1 = items[\"epochs\"][0][:100]\n",
    "hinton(layer_1)\n",
    "# for model_name, items in models.items():\n",
    "#     for time_step, layer in enumerate(items[\"epochs\"]):\n",
    "#         test_layer = [layer]\n",
    "#         if time_step >= plot_number:\n",
    "#             break\n",
    "        \n",
    "# # Plot the layer weights\n",
    "# hinton(test_layer)\n",
    "        \n",
    "    "
   ]
  },
  {
   "cell_type": "code",
   "execution_count": null,
   "metadata": {
    "collapsed": false
   },
   "outputs": [],
   "source": [
    "plot_number = 10\n",
    "\n",
    "# Setup figure\n",
    "fig = plt.figure()\n",
    "\n",
    "for model_name, items in models.items():\n",
    "    for time_step, layer in enumerate(items[\"epochs\"]):\n",
    "        \n",
    "        if time_step >= plot_number:\n",
    "            break\n",
    "        \n",
    "        # Setup the axis\n",
    "        ax = fig.add_subplot(plot_number, 1, time_step+1)\n",
    "        \n",
    "        # Plot the layer weights\n",
    "        sns.distplot(layer, bins='auto', kde=False, rug=False, ax=ax, color=\"#99ff99\", hist_kws=dict(alpha=0.75))\n",
    "        \n",
    "    # Figure attributes\n",
    "    fig.subplots_adjust(hspace=0.8)\n",
    "    fig.set_figheight(30)\n",
    "    fig.set_figwidth(15)\n",
    "    \n",
    "    # Show the plot\n",
    "    plt.show()  "
   ]
  },
  {
   "cell_type": "markdown",
   "metadata": {},
   "source": [
    "# 4. Score Models"
   ]
  },
  {
   "cell_type": "code",
   "execution_count": null,
   "metadata": {
    "collapsed": false,
    "scrolled": true
   },
   "outputs": [],
   "source": [
    "for model_name, items in models.items():\n",
    "    print(model_name)\n",
    "    model = items[\"model_tf\"]\n",
    "    test_score = model.evaluate(x_test, y_test, verbose=0)\n",
    "    train_score = model.evaluate(x_train, y_train, verbose=0)\n",
    "    models[model_name][\"score\"] = {\"test loss\" : test_score[0], \n",
    "                                   \"test accuracy\" : test_score[1],\n",
    "                                   \"train accuracy\" : train_score[1]}\n",
    "    \n",
    "    print('Test loss: {}'.format(test_score[0]))\n",
    "    \n",
    "    print('Train accuracy: {}'.format(train_score[1]))\n",
    "    print('Test accuracy: {}'.format(test_score[1]))\n",
    "    print(\"\\n\")"
   ]
  },
  {
   "cell_type": "markdown",
   "metadata": {},
   "source": [
    "## Extract Weight Matrices from Model"
   ]
  },
  {
   "cell_type": "markdown",
   "metadata": {},
   "source": [
    "#### weights to json function"
   ]
  },
  {
   "cell_type": "code",
   "execution_count": null,
   "metadata": {
    "collapsed": false
   },
   "outputs": [],
   "source": [
    "def weights_to_json(data, file_name):\n",
    "    # Set file path\n",
    "    file_path = \"json_files/{}.json\".format(file_name)\n",
    "    \n",
    "    # Dump json data\n",
    "    json.dump(data, codecs.open(file_path, 'w', encoding='utf-8'), separators=(',', ':'), sort_keys=True, indent=4)\n"
   ]
  },
  {
   "cell_type": "markdown",
   "metadata": {},
   "source": [
    "### Format and write data"
   ]
  },
  {
   "cell_type": "code",
   "execution_count": null,
   "metadata": {
    "collapsed": false
   },
   "outputs": [],
   "source": [
    "for model_name, items in models.items():\n",
    "    # Define the edata to write\n",
    "    write_data = { model_name : items[\"epochs\"] }\n",
    "    \n",
    "    # write to json\n",
    "    weights_to_json(write_data, model_name)\n"
   ]
  },
  {
   "cell_type": "markdown",
   "metadata": {},
   "source": [
    "## Save Trained Model and Weights to file"
   ]
  },
  {
   "cell_type": "code",
   "execution_count": null,
   "metadata": {
    "collapsed": false
   },
   "outputs": [],
   "source": [
    "for model_name, items in models.items():\n",
    "\n",
    "    # Set model\n",
    "    model = items[\"model_tf\"]\n",
    "\n",
    "    # serialize model to JSON\n",
    "    model_json = model.to_json()\n",
    "\n",
    "    # Write model to file\n",
    "    outfile_name = \"models/{}.json\".format(model_name)\n",
    "    with open(outfile_name, \"w\") as json_file:\n",
    "        json_file.write(model_json)\n",
    "\n",
    "    # Serialize weights to HDF5 and save\n",
    "    model.save_weights(\"models/{}_weights.h5\".format(model_name))\n",
    "\n",
    "    print(\"Saved {} to disk.\".format(model_name))"
   ]
  },
  {
   "cell_type": "markdown",
   "metadata": {},
   "source": [
    "# Appendix A: References"
   ]
  },
  {
   "cell_type": "markdown",
   "metadata": {},
   "source": [
    "## Keras\n",
    "- https://keras.io/getting-started/sequential-model-guide/\n",
    "- https://keras.io/models/sequential/#sequential-model-methods"
   ]
  },
  {
   "cell_type": "markdown",
   "metadata": {},
   "source": [
    "## Numpy and Images\n",
    "- http://scikit-image.org/docs/dev/user_guide/numpy_images.html\n",
    "- astropy, but useful: http://prancer.physics.louisville.edu/astrowiki/index.php/Image_processing_with_Python_and_SciPy\n",
    "- https://www.safaribooksonline.com/library/view/programming-computer-vision/9781449341916/ch01.html"
   ]
  },
  {
   "cell_type": "markdown",
   "metadata": {},
   "source": [
    "## Resizing images for NN processing\n",
    "- https://datascience.stackexchange.com/questions/5224/how-to-prepare-images-for-neural-network"
   ]
  },
  {
   "cell_type": "markdown",
   "metadata": {},
   "source": [
    "## Database\n",
    "- MongoDB: https://realpython.com/blog/python/introduction-to-mongodb-and-python/"
   ]
  },
  {
   "cell_type": "markdown",
   "metadata": {},
   "source": [
    "## Saving Net One Step at a Time\n",
    "- https://github.com/fchollet/keras/issues/85"
   ]
  },
  {
   "cell_type": "markdown",
   "metadata": {},
   "source": [
    "## Dict to JSON\n",
    "- http://robotfantastic.org/serializing-python-data-to-json-some-edge-cases.html"
   ]
  },
  {
   "cell_type": "markdown",
   "metadata": {},
   "source": [
    "## Batch Size Explained Well\n",
    "- https://stats.stackexchange.com/questions/153531/what-is-batch-size-in-neural-network"
   ]
  },
  {
   "cell_type": "markdown",
   "metadata": {},
   "source": [
    "## Conv Networks\n",
    "- https://github.com/fchollet/keras/issues/233"
   ]
  },
  {
   "cell_type": "markdown",
   "metadata": {},
   "source": [
    "## Fully Connected (FC) Layer\n",
    "- http://cs231n.github.io/convolutional-networks/#fc"
   ]
  },
  {
   "cell_type": "markdown",
   "metadata": {},
   "source": [
    "- https://keras.io/callbacks/"
   ]
  },
  {
   "cell_type": "markdown",
   "metadata": {},
   "source": [
    "## CNNs\n",
    "- http://cs.stanford.edu/people/karpathy/convnetjs/index.html\n",
    "- https://github.com/transcranial/keras-js/blob/master/demos/notebooks/mnist_cnn.ipynb\n",
    "- https://hackernoon.com/visualizing-parts-of-convolutional-neural-networks-using-keras-and-cats-5cc01b214e59\n",
    "- http://cs231n.github.io/convolutional-networks/#conv\n",
    "- http://cs.stanford.edu/people/karpathy/convnetjs/demo/mnist.html\n",
    "- https://scipy.github.io/old-wiki/pages/Cookbook/Matplotlib/HintonDiagrams.html\n",
    "- https://cambridgespark.com/content/tutorials/convolutional-neural-networks-with-keras/index.html\n",
    "- https://adeshpande3.github.io/adeshpande3.github.io/A-Beginner%27s-Guide-To-Understanding-Convolutional-Neural-Networks/\n",
    "\n"
   ]
  },
  {
   "cell_type": "markdown",
   "metadata": {},
   "source": [
    "### Vis\n",
    "- https://blog.keras.io/how-convolutional-neural-networks-see-the-world.html\n",
    "- https://github.com/julienr/ipynb_playground/blob/master/keras/convmnist/keras_cnn_mnist.ipynb\n",
    "- https://github.com/fchollet/keras/issues/1479"
   ]
  },
  {
   "cell_type": "markdown",
   "metadata": {},
   "source": [
    "## Keras Callbacks and Checkpoints\n",
    "- https://keunwoochoi.wordpress.com/2016/07/16/keras-callbacks/\n",
    "- http://machinelearningmastery.com/check-point-deep-learning-models-keras/"
   ]
  },
  {
   "cell_type": "markdown",
   "metadata": {},
   "source": [
    "### Keras JS\n",
    "- https://github.com/transcranial/keras-js"
   ]
  },
  {
   "cell_type": "markdown",
   "metadata": {},
   "source": [
    "## Datasets"
   ]
  },
  {
   "cell_type": "markdown",
   "metadata": {},
   "source": [
    "#### MIT Places\n",
    "The compressed file of resized 256*256 images, containing train set and validation set of Places 205.\n",
    "http://data.csail.mit.edu/places/places205/imagesPlaces205_resize.tar.gz"
   ]
  }
 ],
 "metadata": {
  "anaconda-cloud": {},
  "kernelspec": {
   "display_name": "Python [default]",
   "language": "python",
   "name": "python3"
  },
  "language_info": {
   "codemirror_mode": {
    "name": "ipython",
    "version": 3
   },
   "file_extension": ".py",
   "mimetype": "text/x-python",
   "name": "python",
   "nbconvert_exporter": "python",
   "pygments_lexer": "ipython3",
   "version": "3.5.2"
  }
 },
 "nbformat": 4,
 "nbformat_minor": 1
}
