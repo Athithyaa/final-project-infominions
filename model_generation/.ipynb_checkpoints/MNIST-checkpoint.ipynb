{
 "cells": [
  {
   "cell_type": "markdown",
   "metadata": {},
   "source": [
    "# Import Libraries"
   ]
  },
  {
   "cell_type": "code",
   "execution_count": 1,
   "metadata": {
    "collapsed": false
   },
   "outputs": [
    {
     "name": "stderr",
     "output_type": "stream",
     "text": [
      "Using TensorFlow backend.\n"
     ]
    }
   ],
   "source": [
    "from keras.datasets import mnist \n",
    "from keras.models import Model \n",
    "from keras.layers import Input, Convolution2D, MaxPooling2D, Dense, Dropout, Activation, Flatten\n",
    "from keras.utils import np_utils \n",
    "from keras.layers.core import Activation\n",
    "from keras.callbacks import EarlyStopping, ModelCheckpoint\n",
    "\n",
    "import numpy as np\n",
    "import json\n",
    "import matplotlib.pyplot as plt\n",
    "import scipy.misc\n",
    "import seaborn as sns\n",
    "\n",
    "import os"
   ]
  },
  {
   "cell_type": "code",
   "execution_count": 2,
   "metadata": {
    "collapsed": true
   },
   "outputs": [],
   "source": [
    "%matplotlib inline"
   ]
  },
  {
   "cell_type": "markdown",
   "metadata": {},
   "source": [
    "# Store Model Format"
   ]
  },
  {
   "cell_type": "markdown",
   "metadata": {},
   "source": [
    "Eg. 83121CRP\n",
    "\n",
    "No. Filters: 8\n",
    "Conv2D Spatial Extent: 3\n",
    "Conv2D Stride: 1\n",
    "MaxPool Spatial Extent: 2\n",
    "MaxPool Stride: 1\n",
    "\n",
    "Architecture:\n",
    "C = Conv\n",
    "R = Relu\n",
    "P = \n",
    "\n"
   ]
  },
  {
   "cell_type": "markdown",
   "metadata": {},
   "source": [
    "# Model Parameters"
   ]
  },
  {
   "cell_type": "code",
   "execution_count": 3,
   "metadata": {
    "collapsed": true
   },
   "outputs": [],
   "source": [
    "TESTING = False\n",
    "SAVE_ALL_FILTERS = False\n",
    "SAVE_EPOCH_WEIGHTS = False\n",
    "PLOT = False   # Plot filter images?\n",
    "CMAP_ON = True # CMAP on for saving files?"
   ]
  },
  {
   "cell_type": "code",
   "execution_count": 4,
   "metadata": {
    "collapsed": true
   },
   "outputs": [],
   "source": [
    "batch_size = 128     # in each iteration, we consider 32 training examples at once\n",
    "kernel_size = 3      # we will use 3x3 kernels throughout\n",
    "pool_size = 2        # we will use 2x2 pooling throughout\n",
    "conv_depth_1 = 8     # 8 kernels in initial conv layers\n",
    "conv_depth_2 = 8    # 16 kernels in later conv layers\n",
    "drop_prob_1 = 0.25   # Dropout rate used for all dropout layers in variable network section\n",
    "drop_prob_2 = 0.5    # Dropout rate used at end of network\n",
    "hidden_size = 512    # the FC layer will have 512 neurons\n",
    "\n",
    "\n",
    "total_training_epochs = 2 if TESTING else 20\n",
    "fit_validation_split = 0.5 if TESTING else 0.1"
   ]
  },
  {
   "cell_type": "code",
   "execution_count": 5,
   "metadata": {
    "collapsed": true
   },
   "outputs": [],
   "source": [
    "cmap = plt.get_cmap('jet')"
   ]
  },
  {
   "cell_type": "markdown",
   "metadata": {},
   "source": [
    "## Architectures"
   ]
  },
  {
   "cell_type": "code",
   "execution_count": 6,
   "metadata": {
    "collapsed": false
   },
   "outputs": [],
   "source": [
    "arch_1 = [\"conv\", \"relu\", \"maxpool\", \"dropout\"]\n",
    "arch_2 = [\"conv\", \"relu\", \"maxpool\", \"dropout\", \"conv\", \"relu\", \"maxpool\", \"dropout\"]\n",
    "arch_3 = [\"conv\", \"relu\", \"conv\", \"relu\", \"maxpool\", \"dropout\"]\n",
    "\n",
    "full_architectures = [arch_1, arch_2, arch_3]\n",
    "TESTING_architectures = [arch_1]\n",
    "\n",
    "architectures = TESTING_architectures if TESTING else full_architectures"
   ]
  },
  {
   "cell_type": "markdown",
   "metadata": {},
   "source": [
    "## Hyperparameters"
   ]
  },
  {
   "cell_type": "markdown",
   "metadata": {},
   "source": [
    "### Conv2D hyper-parameters"
   ]
  },
  {
   "cell_type": "code",
   "execution_count": 7,
   "metadata": {
    "collapsed": true
   },
   "outputs": [],
   "source": [
    "kernel_sizes = [3, 5]"
   ]
  },
  {
   "cell_type": "markdown",
   "metadata": {},
   "source": [
    "# Load Data"
   ]
  },
  {
   "cell_type": "code",
   "execution_count": 8,
   "metadata": {
    "collapsed": false
   },
   "outputs": [],
   "source": [
    "(X_train, y_train), (X_test, y_test) = mnist.load_data() # fetch CIFAR-10 data\n",
    "\n",
    "depth = 1\n",
    "num_train, height, width = X_train.shape # there are 50000 training examples in CIFAR-10 \n",
    "num_test = X_test.shape[0] # there are 10000 test examples in CIFAR-10\n",
    "num_classes = np.unique(y_train).shape[0] # there are 10 image classes\n",
    "\n",
    "X_train = X_train.astype('float32') \n",
    "X_test = X_test.astype('float32')\n",
    "X_train /= np.max(X_train) # Normalise data to [0, 1] range\n",
    "X_test /= np.max(X_test) # Normalise data to [0, 1] range\n",
    "Y_train = np_utils.to_categorical(y_train, num_classes) # One-hot encode the labels\n",
    "Y_test = np_utils.to_categorical(y_test, num_classes) # One-hot encode the labels\n"
   ]
  },
  {
   "cell_type": "markdown",
   "metadata": {},
   "source": [
    "### Reshape X data from (28, 28) to (28, 28, 1) for proper network feeding"
   ]
  },
  {
   "cell_type": "code",
   "execution_count": 9,
   "metadata": {
    "collapsed": false
   },
   "outputs": [],
   "source": [
    "X_train = X_train.reshape(X_train.shape[0], X_train.shape[1], X_train.shape[2], 1)\n",
    "X_test = X_test.reshape(X_test.shape[0], X_test.shape[1], X_test.shape[2], 1)"
   ]
  },
  {
   "cell_type": "markdown",
   "metadata": {},
   "source": [
    "# Setup Model"
   ]
  },
  {
   "cell_type": "markdown",
   "metadata": {},
   "source": [
    "### Conv Unit"
   ]
  },
  {
   "cell_type": "code",
   "execution_count": 10,
   "metadata": {
    "collapsed": false
   },
   "outputs": [],
   "source": [
    "def add_conv_unit(conv_id, conv_depth, kernel_size):\n",
    "    conv_layer = Convolution2D(conv_depth, \n",
    "                               (kernel_size, kernel_size), \n",
    "                               name=conv_id, \n",
    "                               padding='same')\n",
    "    return conv_layer"
   ]
  },
  {
   "cell_type": "markdown",
   "metadata": {},
   "source": [
    "### Relu Unit"
   ]
  },
  {
   "cell_type": "code",
   "execution_count": 11,
   "metadata": {
    "collapsed": true
   },
   "outputs": [],
   "source": [
    "def add_relu_unit(relu_id):\n",
    "    relu_layer = Dense(28, \n",
    "                       activation='relu',\n",
    "                       name=relu_id)\n",
    "    \n",
    "    return relu_layer"
   ]
  },
  {
   "cell_type": "markdown",
   "metadata": {},
   "source": [
    "### Pool Unit"
   ]
  },
  {
   "cell_type": "code",
   "execution_count": 12,
   "metadata": {
    "collapsed": true
   },
   "outputs": [],
   "source": [
    "def add_pool_unit(max_pool_id):\n",
    "    pool_layer = MaxPooling2D(pool_size=(pool_size, pool_size),\n",
    "                              name=max_pool_id)\n",
    "    return pool_layer"
   ]
  },
  {
   "cell_type": "markdown",
   "metadata": {},
   "source": [
    "### Dropout Unit"
   ]
  },
  {
   "cell_type": "code",
   "execution_count": 13,
   "metadata": {
    "collapsed": true
   },
   "outputs": [],
   "source": [
    "def add_dropout_unit():\n",
    "    dropout_layer = Dropout(drop_prob_1)\n",
    "    return dropout_layer"
   ]
  },
  {
   "cell_type": "markdown",
   "metadata": {},
   "source": [
    "# MODEL_DATA Structure"
   ]
  },
  {
   "cell_type": "raw",
   "metadata": {},
   "source": [
    "MODEL_DATA = { \"model_0\" :\n",
    "                 { \"epochs\" : \n",
    "                     { \"epoch_0\" : \n",
    "                         { \"scores\" : { \"loss\" : loss_val, \"accr\" : accr_val },\n",
    "                           \"conv_layers\" : \n",
    "                               { \"conv_0\" : { \"img_filepath\" : filepath },\n",
    "                                 \"conv_1\" : { \"img_filepath\" : filepath },\n",
    "                                 ...\n",
    "                               }\n",
    "                         },\n",
    "                       \"epoch_1\" : \n",
    "                         { \"scores\" : { \"loss\" : loss_val, \"accr\" : accr_val },\n",
    "                           \"conv_layers\" : \n",
    "                               { \"conv_0\" : { \"img_filepath\" : filepath },\n",
    "                                 \"conv_1\" : { \"img_filepath\" : filepath },\n",
    "                                 ...\n",
    "                               }\n",
    "                         },\n",
    "                       ...\n",
    "                     },\n",
    "                  \"arch\" : model.get_config()\n",
    "                },\n",
    "              \"model_1\" : ...\n",
    "            }"
   ]
  },
  {
   "cell_type": "markdown",
   "metadata": {},
   "source": [
    "# Setup Models"
   ]
  },
  {
   "cell_type": "code",
   "execution_count": 14,
   "metadata": {
    "collapsed": false
   },
   "outputs": [],
   "source": [
    "arch_dict = { \"conv\" : add_conv_unit, \"relu\" : add_relu_unit, \"maxpool\" : add_pool_unit, \"dropout\" : add_dropout_unit }"
   ]
  },
  {
   "cell_type": "markdown",
   "metadata": {},
   "source": [
    "### Setup Model"
   ]
  },
  {
   "cell_type": "code",
   "execution_count": 15,
   "metadata": {
    "collapsed": false
   },
   "outputs": [],
   "source": [
    "def setup_model(architecture, kernel_size):\n",
    "    \n",
    "    # ---------$$---------$$---------$$------------------$$---------$$---------$$---------\n",
    "    #                               FIXED\n",
    "    # ---------$$---------$$---------$$------------------$$---------$$---------$$---------\n",
    "    input_layer = Input(shape=(height, width, depth)) # depth goes last in TensorFlow back-end (first in Theano)\n",
    "    # ---------$$---------$$---------$$------------------$$---------$$---------$$---------\n",
    "    \n",
    "    prev_unit = input_layer\n",
    "    conv_count = 0\n",
    "    relu_count = 0\n",
    "    maxPool_count = 0\n",
    "    for layer_unit in architecture:\n",
    "        print(\"\\t\\tLayer unit: {}\".format(layer_unit))\n",
    "        \n",
    "        if layer_unit == \"conv\":\n",
    "            \n",
    "            # Set conv_id for intermediate layer imaging post training\n",
    "            conv_id = \"conv_{}\".format(conv_count)\n",
    "            \n",
    "            # Set conv depth\n",
    "            conv_depth = conv_depth_1 if conv_count == 0 else conv_depth_2\n",
    "            \n",
    "            # Set new unit\n",
    "            new_unit = arch_dict[layer_unit](conv_id, conv_depth, kernel_size)(prev_unit)\n",
    "            \n",
    "            # Increment conv count\n",
    "            conv_count += 1\n",
    "        \n",
    "        elif layer_unit == \"relu\":\n",
    "            \n",
    "            relu_id = \"relu_{}\".format(relu_count)\n",
    "            \n",
    "            new_unit = arch_dict[layer_unit](relu_id)(prev_unit)\n",
    "            \n",
    "            relu_count += 1\n",
    "            \n",
    "        elif layer_unit == \"maxpool\":\n",
    "            \n",
    "            maxPool_id = \"maxpool_{}\".format(maxPool_count)\n",
    "            \n",
    "            new_unit = arch_dict[layer_unit](maxPool_id)(prev_unit)\n",
    "            \n",
    "            maxPool_count += 1\n",
    "            \n",
    "        else:\n",
    "            new_unit = arch_dict[layer_unit]()(prev_unit)\n",
    "        \n",
    "        # Update prev unit with current unit\n",
    "        prev_unit = new_unit\n",
    " \n",
    "    \n",
    "    \n",
    "    # ---------$$---------$$---------$$------------------$$---------$$---------$$---------\n",
    "    #                               FIXED\n",
    "    # ---------$$---------$$---------$$------------------$$---------$$---------$$---------\n",
    "    flat = Flatten()(prev_unit)\n",
    "    hidden = Dense(hidden_size, activation='relu')(flat)\n",
    "    drop_3 = Dropout(drop_prob_2)(hidden)\n",
    "    out = Dense(num_classes, activation='softmax')(drop_3)\n",
    "    # ---------$$---------$$---------$$------------------$$---------$$---------$$---------\n",
    "    \n",
    "    # Create model\n",
    "    new_model = Model(inputs=input_layer, outputs=out) # To define a model, just specify its input and output layers\n",
    "    \n",
    "    # Compile model\n",
    "    new_model.compile(loss='categorical_crossentropy', # using the cross-entropy loss function\n",
    "                  optimizer='adam', # using the Adam optimiser\n",
    "                  metrics=['accuracy']) # reporting the accuracy\n",
    "    \n",
    "    return new_model"
   ]
  },
  {
   "cell_type": "markdown",
   "metadata": {},
   "source": [
    "### Generate Models"
   ]
  },
  {
   "cell_type": "code",
   "execution_count": 16,
   "metadata": {
    "collapsed": false
   },
   "outputs": [
    {
     "name": "stdout",
     "output_type": "stream",
     "text": [
      "Model 0\n",
      "=======\n",
      "\tConv Kernel Size: 3\n",
      "\t--------------------\n",
      "\t\tLayer unit: conv\n",
      "\t\tLayer unit: relu\n",
      "\t\tLayer unit: maxpool\n",
      "\t\tLayer unit: dropout\n",
      "\n",
      "\n",
      "Model 1\n",
      "=======\n",
      "\tConv Kernel Size: 5\n",
      "\t--------------------\n",
      "\t\tLayer unit: conv\n",
      "\t\tLayer unit: relu\n",
      "\t\tLayer unit: maxpool\n",
      "\t\tLayer unit: dropout\n",
      "\n",
      "\n",
      "\n",
      "\n",
      "Model 2\n",
      "=======\n",
      "\tConv Kernel Size: 3\n",
      "\t--------------------\n",
      "\t\tLayer unit: conv\n",
      "\t\tLayer unit: relu\n",
      "\t\tLayer unit: maxpool\n",
      "\t\tLayer unit: dropout\n",
      "\t\tLayer unit: conv\n",
      "\t\tLayer unit: relu\n",
      "\t\tLayer unit: maxpool\n",
      "\t\tLayer unit: dropout\n",
      "\n",
      "\n",
      "Model 3\n",
      "=======\n",
      "\tConv Kernel Size: 5\n",
      "\t--------------------\n",
      "\t\tLayer unit: conv\n",
      "\t\tLayer unit: relu\n",
      "\t\tLayer unit: maxpool\n",
      "\t\tLayer unit: dropout\n",
      "\t\tLayer unit: conv\n",
      "\t\tLayer unit: relu\n",
      "\t\tLayer unit: maxpool\n",
      "\t\tLayer unit: dropout\n",
      "\n",
      "\n",
      "\n",
      "\n",
      "Model 4\n",
      "=======\n",
      "\tConv Kernel Size: 3\n",
      "\t--------------------\n",
      "\t\tLayer unit: conv\n",
      "\t\tLayer unit: relu\n",
      "\t\tLayer unit: conv\n",
      "\t\tLayer unit: relu\n",
      "\t\tLayer unit: maxpool\n",
      "\t\tLayer unit: dropout\n",
      "\n",
      "\n",
      "Model 5\n",
      "=======\n",
      "\tConv Kernel Size: 5\n",
      "\t--------------------\n",
      "\t\tLayer unit: conv\n",
      "\t\tLayer unit: relu\n",
      "\t\tLayer unit: conv\n",
      "\t\tLayer unit: relu\n",
      "\t\tLayer unit: maxpool\n",
      "\t\tLayer unit: dropout\n",
      "\n",
      "\n",
      "\n",
      "\n"
     ]
    }
   ],
   "source": [
    "models = {}\n",
    "\n",
    "model_num = 0\n",
    "for arch_i, arch in enumerate(architectures):\n",
    "    for kernel_size in kernel_sizes:\n",
    "        print(\"Model {}\".format(model_num))\n",
    "        print(\"=======\")\n",
    "        print(\"\\tConv Kernel Size: {}\".format(kernel_size))\n",
    "        print(\"\\t--------------------\")\n",
    "        new_model = setup_model(arch, kernel_size)\n",
    "        print(\"\\n\")\n",
    "        \n",
    "        models[\"model_{}\".format(model_num)] = {\"model\" : new_model, \"arch\" : arch, \"kernel\" : kernel_size}\n",
    "        \n",
    "        model_num += 1\n",
    "    print(\"\\n\")"
   ]
  },
  {
   "cell_type": "markdown",
   "metadata": {},
   "source": [
    "### Check Models"
   ]
  },
  {
   "cell_type": "code",
   "execution_count": 17,
   "metadata": {
    "collapsed": false
   },
   "outputs": [
    {
     "data": {
      "text/plain": [
       "{'model_0': {'arch': ['conv', 'relu', 'maxpool', 'dropout'],\n",
       "  'kernel': 3,\n",
       "  'model': <keras.engine.training.Model at 0x12e2a9be0>},\n",
       " 'model_1': {'arch': ['conv', 'relu', 'maxpool', 'dropout'],\n",
       "  'kernel': 5,\n",
       "  'model': <keras.engine.training.Model at 0x12e641eb8>},\n",
       " 'model_2': {'arch': ['conv',\n",
       "   'relu',\n",
       "   'maxpool',\n",
       "   'dropout',\n",
       "   'conv',\n",
       "   'relu',\n",
       "   'maxpool',\n",
       "   'dropout'],\n",
       "  'kernel': 3,\n",
       "  'model': <keras.engine.training.Model at 0x12e94bba8>},\n",
       " 'model_3': {'arch': ['conv',\n",
       "   'relu',\n",
       "   'maxpool',\n",
       "   'dropout',\n",
       "   'conv',\n",
       "   'relu',\n",
       "   'maxpool',\n",
       "   'dropout'],\n",
       "  'kernel': 5,\n",
       "  'model': <keras.engine.training.Model at 0x12ed59c88>},\n",
       " 'model_4': {'arch': ['conv', 'relu', 'conv', 'relu', 'maxpool', 'dropout'],\n",
       "  'kernel': 3,\n",
       "  'model': <keras.engine.training.Model at 0x12f009c50>},\n",
       " 'model_5': {'arch': ['conv', 'relu', 'conv', 'relu', 'maxpool', 'dropout'],\n",
       "  'kernel': 5,\n",
       "  'model': <keras.engine.training.Model at 0x12f1ee908>}}"
      ]
     },
     "execution_count": 17,
     "metadata": {},
     "output_type": "execute_result"
    }
   ],
   "source": [
    "models"
   ]
  },
  {
   "cell_type": "markdown",
   "metadata": {},
   "source": [
    "### Setup MODEL DATA to hold model Architectures"
   ]
  },
  {
   "cell_type": "code",
   "execution_count": 18,
   "metadata": {
    "collapsed": false
   },
   "outputs": [],
   "source": [
    "MODEL_DATA = { \"{}\".format(model_name) : \n",
    "                  { \n",
    "                    \"arch_tf\" : model_obj[\"model\"].get_config(),\n",
    "                    \"user_arch\" : model_obj[\"arch\"]\n",
    "                  } \n",
    "              \n",
    "              for model_name, model_obj in models.items() }"
   ]
  },
  {
   "cell_type": "code",
   "execution_count": 19,
   "metadata": {
    "collapsed": false
   },
   "outputs": [
    {
     "data": {
      "text/plain": [
       "['conv', 'relu', 'maxpool', 'dropout']"
      ]
     },
     "execution_count": 19,
     "metadata": {},
     "output_type": "execute_result"
    }
   ],
   "source": [
    "MODEL_DATA[\"model_0\"][\"user_arch\"]"
   ]
  },
  {
   "cell_type": "markdown",
   "metadata": {},
   "source": [
    "# Fit Models"
   ]
  },
  {
   "cell_type": "markdown",
   "metadata": {},
   "source": [
    "#### Set Callbacks"
   ]
  },
  {
   "cell_type": "code",
   "execution_count": 20,
   "metadata": {
    "collapsed": false
   },
   "outputs": [],
   "source": [
    "def set_callbacks(model_name, epoch_name):\n",
    "    \n",
    "    # Setup filename/path\n",
    "    FILE_DIR = \"models/{}/{}/weights/\".format(model_name, epoch_name)\n",
    "    FILENAME_EPOCH = \"weights-{}-\".format(epoch_name)\n",
    "    FILENAME_ACC_LOSS = \"-acc_{val_acc:.2f}-loss_{val_loss:.2f}.hdf5\"\n",
    "    \n",
    "    WEIGHTS_FILEPATH_FULL = FILE_DIR + FILENAME_EPOCH + FILENAME_ACC_LOSS\n",
    "    \n",
    "    # Model saving callback\n",
    "    checkpointer = ModelCheckpoint(filepath=WEIGHTS_FILEPATH_FULL, \n",
    "                                   monitor=['val_acc', 'val_loss'], \n",
    "                                   save_weights_only = False,\n",
    "                                   verbose=1, \n",
    "                                   save_best_only=False, \n",
    "                                   mode='max')\n",
    "\n",
    "    # Early stopping \n",
    "    early_stopping = EarlyStopping(monitor='val_acc', verbose=1, patience=5)\n",
    "    \n",
    "    return [checkpointer, early_stopping]"
   ]
  },
  {
   "cell_type": "markdown",
   "metadata": {},
   "source": [
    "### Set Model Eval fxn"
   ]
  },
  {
   "cell_type": "code",
   "execution_count": 21,
   "metadata": {
    "collapsed": true
   },
   "outputs": [],
   "source": [
    "MODEL_ACCURACY_DATA = {}"
   ]
  },
  {
   "cell_type": "code",
   "execution_count": 22,
   "metadata": {
    "collapsed": true
   },
   "outputs": [],
   "source": [
    "def evaluate_model(model_to_eval, model_name, epoch_name):\n",
    "    \n",
    "    # Get model loss and accuracy\n",
    "    loss, accr = model_to_eval.evaluate(X_test, Y_test, verbose=1)\n",
    "    \n",
    "    # Store into MODEL_DATA\n",
    "    MODEL_DATA[model_name][\"epochs\"][epoch_name][\"scores\"] = { \"loss\" : loss, \"accr\" : accr }\n",
    "    \n",
    "    # Store into MODEL_ACCURACY_DATA\n",
    "    MODEL_ACCURACY_DATA[model_name][\"epochs\"][epoch_name][\"scores\"] = { \"loss\" : loss, \"accr\" : accr }"
   ]
  },
  {
   "cell_type": "markdown",
   "metadata": {},
   "source": [
    "## Setup Test Image for Filter Generation"
   ]
  },
  {
   "cell_type": "code",
   "execution_count": 23,
   "metadata": {
    "collapsed": false
   },
   "outputs": [],
   "source": [
    "test_images = []\n",
    "label = -9999\n",
    "for label_i in range(10):\n",
    "    while label_i != label:\n",
    "        test_image_index = np.random.randint(0, len(Y_test) - 1)\n",
    "        e = Y_test[test_image_index]\n",
    "        label = int(np.where(e == 1)[0])\n",
    "    \n",
    "    X_test_image = X_test[test_image_index]\n",
    "    X_test_image = X_test_image.reshape(X_test_image.shape[0], X_test_image.shape[1])\n",
    "    \n",
    "    test_images.append((test_image_index, X_test_image, label))\n",
    "    \n",
    "    "
   ]
  },
  {
   "cell_type": "code",
   "execution_count": 24,
   "metadata": {
    "collapsed": false
   },
   "outputs": [
    {
     "data": {
      "text/plain": [
       "<matplotlib.image.AxesImage at 0x12f2e7ef0>"
      ]
     },
     "execution_count": 24,
     "metadata": {},
     "output_type": "execute_result"
    },
    {
     "data": {
      "image/png": "[encoded data removed]",
      "text/plain": [
       "<matplotlib.figure.Figure at 0x12f2e7e48>"
      ]
     },
     "metadata": {},
     "output_type": "display_data"
    }
   ],
   "source": [
    "test_image_index = np.random.randint(0, len(X_test) - 1)\n",
    "test_image = X_test[test_image_index]\n",
    "test_image = test_image.reshape(test_image.shape[0], test_image.shape[1])\n",
    "\n",
    "# Plot image\n",
    "imshow = plt.imshow\n",
    "plt.title(\"Test Image\")\n",
    "imshow(test_image)"
   ]
  },
  {
   "cell_type": "markdown",
   "metadata": {},
   "source": [
    "### Save Model Filters"
   ]
  },
  {
   "cell_type": "code",
   "execution_count": 25,
   "metadata": {
    "collapsed": true
   },
   "outputs": [],
   "source": [
    "def save_model_filters(model, model_name, epoch_name):\n",
    "    \n",
    "    # Get the USER selected model architecture\n",
    "    USER_model_arch = MODEL_DATA[model_name][\"user_arch\"]\n",
    "    \n",
    "    # Get count of conv layers from model arch\n",
    "    conv_layer_num = USER_model_arch.count(\"conv_relu\")\n",
    "\n",
    "    # Generate conv layer names for accessing layers of TensorFlow model\n",
    "    conv_layer_names = [\"conv_{}\".format(i) for i in range(conv_layer_num)]\n",
    "\n",
    "    # Set conv layers dict\n",
    "    MODEL_DATA[model_name][\"epochs\"][epoch_name][\"conv_layers\"] = {}\n",
    "\n",
    "    \n",
    "    # Iterate through conv names, accessing each conv layer\n",
    "    for conv_name in conv_layer_names:\n",
    "        \n",
    "        # Set conv layer dict\n",
    "        MODEL_DATA[model_name][\"epochs\"][epoch_name][\"conv_layers\"][conv_name] = {}\n",
    "        \n",
    "        \n",
    "        # Generate model for conv layer\n",
    "        conv_layer_model = Model(inputs=model.input,\n",
    "                                  outputs=model.get_layer(conv_name).output)\n",
    "\n",
    "        # Predict\n",
    "        conv_layer_out = conv_layer_model.predict(X_test)\n",
    "\n",
    "        # Find convolution layer depth \n",
    "        conv_depth = conv_depth_1 if conv_name == \"conv_0\" else conv_depth_2\n",
    "        \n",
    "        \n",
    "        for test_image_index, test_image, label in test_images:\n",
    "        \n",
    "            # Set list of filters in current conv layer\n",
    "            filters = [conv_layer_out[test_image_index,:,:,filt_id] for filt_id in range(conv_depth)]\n",
    "\n",
    "            FILTER_DATA = []\n",
    "            for filter_id, conv_filter in enumerate(filters):\n",
    "\n",
    "                # Set filter name\n",
    "                filter_name = \"filter_{}\".format(filter_id)\n",
    "\n",
    "                # Set filter path\n",
    "                FILTER_FILEPATH = \"models/{}/{}/conv_layers/{}/{}_label{}.jpg\".format(model_name, epoch_name, conv_name, filter_name, label)\n",
    "\n",
    "                # Determine color mapping of image save\n",
    "                save_filter = cmap(conv_filter) if CMAP_ON else conv_filter\n",
    "\n",
    "                # Write image to file\n",
    "                scipy.misc.toimage(save_filter).save(FILTER_FILEPATH)\n",
    "\n",
    "                # Set filter filepath\n",
    "                MODEL_DATA[model_name][\"epochs\"][epoch_name][\"conv_layers\"][conv_name][filter_name] = {\"filepath\" : FILTER_FILEPATH}\n",
    "\n",
    "            "
   ]
  },
  {
   "cell_type": "markdown",
   "metadata": {},
   "source": [
    "### Fit all models"
   ]
  },
  {
   "cell_type": "code",
   "execution_count": 26,
   "metadata": {
    "collapsed": false,
    "scrolled": false
   },
   "outputs": [
    {
     "name": "stdout",
     "output_type": "stream",
     "text": [
      "model_4\n",
      "========\n",
      "\tTraining Epoch 0\n",
      "\t-----------------\n",
      "Train on 54000 samples, validate on 6000 samples\n",
      "Epoch 1/1\n",
      "54000/54000 [==============================] - 104s - loss: 0.2369 - acc: 0.9265 - val_loss: 0.0627 - val_acc: 0.9818\n",
      "10000/10000 [==============================] - 5s     \n",
      "\n",
      "\n",
      "\tTraining Epoch 1\n",
      "\t-----------------\n",
      "Train on 54000 samples, validate on 6000 samples\n",
      "Epoch 1/1\n",
      "54000/54000 [==============================] - 205s - loss: 0.0816 - acc: 0.9741 - val_loss: 0.0485 - val_acc: 0.9867\n",
      " 9984/10000 [============================>.] - ETA: 0s\n",
      "\n",
      "\tTraining Epoch 2\n",
      "\t-----------------\n",
      "Train on 54000 samples, validate on 6000 samples\n",
      "Epoch 1/1\n",
      "54000/54000 [==============================] - 206s - loss: 0.0578 - acc: 0.9816 - val_loss: 0.0395 - val_acc: 0.9890\n",
      "10000/10000 [==============================] - 12s    \n",
      "\n",
      "\n",
      "\tTraining Epoch 3\n",
      "\t-----------------\n",
      "Train on 54000 samples, validate on 6000 samples\n",
      "Epoch 1/1\n",
      "54000/54000 [==============================] - 188s - loss: 0.0451 - acc: 0.9859 - val_loss: 0.0372 - val_acc: 0.9898\n",
      " 9952/10000 [============================>.] - ETA: 0s\n",
      "\n",
      "\tTraining Epoch 4\n",
      "\t-----------------\n",
      "Train on 54000 samples, validate on 6000 samples\n",
      "Epoch 1/1\n",
      "54000/54000 [==============================] - 183s - loss: 0.0389 - acc: 0.9873 - val_loss: 0.0372 - val_acc: 0.9897\n",
      "10000/10000 [==============================] - 9s     \n",
      "\n",
      "\n",
      "\tTraining Epoch 5\n",
      "\t-----------------\n",
      "Train on 54000 samples, validate on 6000 samples\n",
      "Epoch 1/1\n",
      "54000/54000 [==============================] - 187s - loss: 0.0319 - acc: 0.9899 - val_loss: 0.0314 - val_acc: 0.9915\n",
      "10000/10000 [==============================] - 9s     \n",
      "\n",
      "\n",
      "\tTraining Epoch 6\n",
      "\t-----------------\n",
      "Train on 54000 samples, validate on 6000 samples\n",
      "Epoch 1/1\n",
      "54000/54000 [==============================] - 166s - loss: 0.0289 - acc: 0.9906 - val_loss: 0.0321 - val_acc: 0.9923\n",
      " 9984/10000 [============================>.] - ETA: 0s\n",
      "\n",
      "\tTraining Epoch 7\n",
      "\t-----------------\n",
      "Train on 54000 samples, validate on 6000 samples\n",
      "Epoch 1/1\n",
      "54000/54000 [==============================] - 175s - loss: 0.0251 - acc: 0.9917 - val_loss: 0.0351 - val_acc: 0.9903\n",
      " 9984/10000 [============================>.] - ETA: 0s\n",
      "\n",
      "\tTraining Epoch 8\n",
      "\t-----------------\n",
      "Train on 54000 samples, validate on 6000 samples\n",
      "Epoch 1/1\n",
      "54000/54000 [==============================] - 182s - loss: 0.0224 - acc: 0.9920 - val_loss: 0.0295 - val_acc: 0.9923\n",
      " 9952/10000 [============================>.] - ETA: 0s\n",
      "\n",
      "\tTraining Epoch 9\n",
      "\t-----------------\n",
      "Train on 54000 samples, validate on 6000 samples\n",
      "Epoch 1/1\n",
      "54000/54000 [==============================] - 165s - loss: 0.0211 - acc: 0.9930 - val_loss: 0.0325 - val_acc: 0.9917\n",
      "10000/10000 [==============================] - 7s     \n",
      "\n",
      "\n",
      "\tTraining Epoch 10\n",
      "\t-----------------\n",
      "Train on 54000 samples, validate on 6000 samples\n",
      "Epoch 1/1\n",
      "54000/54000 [==============================] - 164s - loss: 0.0182 - acc: 0.9940 - val_loss: 0.0326 - val_acc: 0.9925\n",
      " 9952/10000 [============================>.] - ETA: 0s\n",
      "\n",
      "\tTraining Epoch 11\n",
      "\t-----------------\n",
      "Train on 54000 samples, validate on 6000 samples\n",
      "Epoch 1/1\n",
      "54000/54000 [==============================] - 174s - loss: 0.0185 - acc: 0.9937 - val_loss: 0.0351 - val_acc: 0.9912\n",
      " 9984/10000 [============================>.] - ETA: 0s\n",
      "\n",
      "\tTraining Epoch 12\n",
      "\t-----------------\n",
      "Train on 54000 samples, validate on 6000 samples\n",
      "Epoch 1/1\n",
      "54000/54000 [==============================] - 156s - loss: 0.0160 - acc: 0.9946 - val_loss: 0.0353 - val_acc: 0.9908\n",
      " 9952/10000 [============================>.] - ETA: 0s\n",
      "\n",
      "\tTraining Epoch 13\n",
      "\t-----------------\n",
      "Train on 54000 samples, validate on 6000 samples\n",
      "Epoch 1/1\n",
      "54000/54000 [==============================] - 154s - loss: 0.0143 - acc: 0.9952 - val_loss: 0.0374 - val_acc: 0.9912\n",
      " 9984/10000 [============================>.] - ETA: 0s\n",
      "\n",
      "\tTraining Epoch 14\n",
      "\t-----------------\n",
      "Train on 54000 samples, validate on 6000 samples\n",
      "Epoch 1/1\n",
      "54000/54000 [==============================] - 158s - loss: 0.0145 - acc: 0.9951 - val_loss: 0.0352 - val_acc: 0.9915\n",
      " 9984/10000 [============================>.] - ETA: 0s\n",
      "\n",
      "\tTraining Epoch 15\n",
      "\t-----------------\n",
      "Train on 54000 samples, validate on 6000 samples\n",
      "Epoch 1/1\n",
      "54000/54000 [==============================] - 153s - loss: 0.0127 - acc: 0.9956 - val_loss: 0.0308 - val_acc: 0.9930\n",
      " 9952/10000 [============================>.] - ETA: 0s\n",
      "\n",
      "\tTraining Epoch 16\n",
      "\t-----------------\n",
      "Train on 54000 samples, validate on 6000 samples\n",
      "Epoch 1/1\n",
      "54000/54000 [==============================] - 162s - loss: 0.0115 - acc: 0.9961 - val_loss: 0.0375 - val_acc: 0.9910\n",
      " 9984/10000 [============================>.] - ETA: 0s\n",
      "\n",
      "\tTraining Epoch 17\n",
      "\t-----------------\n",
      "Train on 54000 samples, validate on 6000 samples\n",
      "Epoch 1/1\n",
      "54000/54000 [==============================] - 153s - loss: 0.0113 - acc: 0.9962 - val_loss: 0.0342 - val_acc: 0.9912\n",
      " 9984/10000 [============================>.] - ETA: 0s\n",
      "\n",
      "\tTraining Epoch 18\n",
      "\t-----------------\n",
      "Train on 54000 samples, validate on 6000 samples\n",
      "Epoch 1/1\n",
      "54000/54000 [==============================] - 155s - loss: 0.0105 - acc: 0.9965 - val_loss: 0.0314 - val_acc: 0.9925\n",
      " 9952/10000 [============================>.] - ETA: 0s\n",
      "\n",
      "\tTraining Epoch 19\n",
      "\t-----------------\n",
      "Train on 54000 samples, validate on 6000 samples\n",
      "Epoch 1/1\n",
      "54000/54000 [==============================] - 151s - loss: 0.0094 - acc: 0.9969 - val_loss: 0.0411 - val_acc: 0.9922\n",
      " 9984/10000 [============================>.] - ETA: 0s\n",
      "\n",
      "\n",
      "\n",
      "model_3\n",
      "========\n",
      "\tTraining Epoch 0\n",
      "\t-----------------\n",
      "Train on 54000 samples, validate on 6000 samples\n",
      "Epoch 1/1\n",
      "54000/54000 [==============================] - 106s - loss: 0.3058 - acc: 0.9058 - val_loss: 0.0647 - val_acc: 0.9800\n",
      " 9984/10000 [============================>.] - ETA: 0s\n",
      "\n",
      "\tTraining Epoch 1\n",
      "\t-----------------\n",
      "Train on 54000 samples, validate on 6000 samples\n",
      "Epoch 1/1\n",
      "54000/54000 [==============================] - 107s - loss: 0.1105 - acc: 0.9657 - val_loss: 0.0539 - val_acc: 0.9853\n",
      " 9952/10000 [============================>.] - ETA: 0s\n",
      "\n",
      "\tTraining Epoch 2\n",
      "\t-----------------\n",
      "Train on 54000 samples, validate on 6000 samples\n",
      "Epoch 1/1\n",
      "54000/54000 [==============================] - 105s - loss: 0.0806 - acc: 0.9745 - val_loss: 0.0368 - val_acc: 0.9888\n",
      " 9984/10000 [============================>.] - ETA: 0s\n",
      "\n",
      "\tTraining Epoch 3\n",
      "\t-----------------\n",
      "Train on 54000 samples, validate on 6000 samples\n",
      "Epoch 1/1\n",
      "54000/54000 [==============================] - 108s - loss: 0.0642 - acc: 0.9799 - val_loss: 0.0339 - val_acc: 0.9900\n",
      " 9984/10000 [============================>.] - ETA: 0s\n",
      "\n",
      "\tTraining Epoch 4\n",
      "\t-----------------\n",
      "Train on 54000 samples, validate on 6000 samples\n",
      "Epoch 1/1\n",
      "54000/54000 [==============================] - 106s - loss: 0.0580 - acc: 0.9821 - val_loss: 0.0297 - val_acc: 0.9910\n",
      " 9920/10000 [============================>.] - ETA: 0s\n",
      "\n",
      "\tTraining Epoch 5\n",
      "\t-----------------\n",
      "Train on 54000 samples, validate on 6000 samples\n",
      "Epoch 1/1\n",
      "54000/54000 [==============================] - 112s - loss: 0.0532 - acc: 0.9836 - val_loss: 0.0292 - val_acc: 0.9935\n",
      " 9984/10000 [============================>.] - ETA: 0s\n",
      "\n",
      "\tTraining Epoch 6\n",
      "\t-----------------\n",
      "Train on 54000 samples, validate on 6000 samples\n",
      "Epoch 1/1\n",
      "54000/54000 [==============================] - 112s - loss: 0.0488 - acc: 0.9844 - val_loss: 0.0267 - val_acc: 0.9925\n",
      " 9920/10000 [============================>.] - ETA: 0s\n",
      "\n",
      "\tTraining Epoch 7\n",
      "\t-----------------\n",
      "Train on 54000 samples, validate on 6000 samples\n",
      "Epoch 1/1\n",
      "54000/54000 [==============================] - 106s - loss: 0.0436 - acc: 0.9860 - val_loss: 0.0281 - val_acc: 0.9922\n",
      " 9952/10000 [============================>.] - ETA: 0s\n",
      "\n",
      "\tTraining Epoch 8\n",
      "\t-----------------\n",
      "Train on 54000 samples, validate on 6000 samples\n",
      "Epoch 1/1\n",
      "54000/54000 [==============================] - 103s - loss: 0.0405 - acc: 0.9876 - val_loss: 0.0248 - val_acc: 0.9922\n",
      "10000/10000 [==============================] - 5s     \n",
      "\n",
      "\n",
      "\tTraining Epoch 9\n",
      "\t-----------------\n",
      "Train on 54000 samples, validate on 6000 samples\n",
      "Epoch 1/1\n",
      "54000/54000 [==============================] - 111s - loss: 0.0363 - acc: 0.9881 - val_loss: 0.0247 - val_acc: 0.9930\n",
      " 9952/10000 [============================>.] - ETA: 0s\n",
      "\n",
      "\tTraining Epoch 10\n",
      "\t-----------------\n",
      "Train on 54000 samples, validate on 6000 samples\n",
      "Epoch 1/1\n",
      "54000/54000 [==============================] - 109s - loss: 0.0340 - acc: 0.9890 - val_loss: 0.0252 - val_acc: 0.9920\n",
      " 9984/10000 [============================>.] - ETA: 0s\n",
      "\n",
      "\tTraining Epoch 11\n",
      "\t-----------------\n",
      "Train on 54000 samples, validate on 6000 samples\n",
      "Epoch 1/1\n",
      "54000/54000 [==============================] - 109s - loss: 0.0324 - acc: 0.9893 - val_loss: 0.0255 - val_acc: 0.9933\n",
      " 9920/10000 [============================>.] - ETA: 0s\n",
      "\n",
      "\tTraining Epoch 12\n",
      "\t-----------------\n",
      "Train on 54000 samples, validate on 6000 samples\n",
      "Epoch 1/1\n",
      "54000/54000 [==============================] - 98s - loss: 0.0319 - acc: 0.9899 - val_loss: 0.0314 - val_acc: 0.9910\n",
      " 9984/10000 [============================>.] - ETA: 0s\n",
      "\n",
      "\tTraining Epoch 13\n",
      "\t-----------------\n",
      "Train on 54000 samples, validate on 6000 samples\n",
      "Epoch 1/1\n",
      "54000/54000 [==============================] - 113s - loss: 0.0292 - acc: 0.9907 - val_loss: 0.0248 - val_acc: 0.9933\n",
      " 9984/10000 [============================>.] - ETA: 0s\n",
      "\n",
      "\tTraining Epoch 14\n",
      "\t-----------------\n",
      "Train on 54000 samples, validate on 6000 samples\n",
      "Epoch 1/1\n",
      "54000/54000 [==============================] - 116s - loss: 0.0292 - acc: 0.9905 - val_loss: 0.0254 - val_acc: 0.9918\n",
      " 9984/10000 [============================>.] - ETA: 0s\n",
      "\n",
      "\tTraining Epoch 15\n",
      "\t-----------------\n",
      "Train on 54000 samples, validate on 6000 samples\n",
      "Epoch 1/1\n",
      "54000/54000 [==============================] - 124s - loss: 0.0272 - acc: 0.9914 - val_loss: 0.0219 - val_acc: 0.9938\n",
      " 9984/10000 [============================>.] - ETA: 0s\n",
      "\n",
      "\tTraining Epoch 16\n",
      "\t-----------------\n",
      "Train on 54000 samples, validate on 6000 samples\n",
      "Epoch 1/1\n",
      "54000/54000 [==============================] - 124s - loss: 0.0251 - acc: 0.9914 - val_loss: 0.0253 - val_acc: 0.9933\n",
      "10000/10000 [==============================] - 6s     \n",
      "\n",
      "\n",
      "\tTraining Epoch 17\n",
      "\t-----------------\n",
      "Train on 54000 samples, validate on 6000 samples\n",
      "Epoch 1/1\n",
      "54000/54000 [==============================] - 113s - loss: 0.0248 - acc: 0.9918 - val_loss: 0.0264 - val_acc: 0.9930\n",
      " 9920/10000 [============================>.] - ETA: 0s\n",
      "\n",
      "\tTraining Epoch 18\n",
      "\t-----------------\n",
      "Train on 54000 samples, validate on 6000 samples\n",
      "Epoch 1/1\n",
      "54000/54000 [==============================] - 104s - loss: 0.0257 - acc: 0.9915 - val_loss: 0.0233 - val_acc: 0.9933\n",
      " 9984/10000 [============================>.] - ETA: 0s\n",
      "\n",
      "\tTraining Epoch 19\n",
      "\t-----------------\n",
      "Train on 54000 samples, validate on 6000 samples\n",
      "Epoch 1/1\n",
      "54000/54000 [==============================] - 73s - loss: 0.0228 - acc: 0.9923 - val_loss: 0.0249 - val_acc: 0.9933\n",
      " 9920/10000 [============================>.] - ETA: 0s\n",
      "\n",
      "\n",
      "\n",
      "model_1\n",
      "========\n",
      "\tTraining Epoch 0\n",
      "\t-----------------\n",
      "Train on 54000 samples, validate on 6000 samples\n",
      "Epoch 1/1\n",
      "54000/54000 [==============================] - 45s - loss: 0.2286 - acc: 0.9304 - val_loss: 0.0682 - val_acc: 0.9795\n",
      " 9920/10000 [============================>.] - ETA: 0s\n",
      "\n",
      "\tTraining Epoch 1\n",
      "\t-----------------\n",
      "Train on 54000 samples, validate on 6000 samples\n",
      "Epoch 1/1\n",
      "54000/54000 [==============================] - 45s - loss: 0.0851 - acc: 0.9747 - val_loss: 0.0557 - val_acc: 0.9847\n",
      " 9952/10000 [============================>.] - ETA: 0s\n",
      "\n",
      "\tTraining Epoch 2\n",
      "\t-----------------\n",
      "Train on 54000 samples, validate on 6000 samples\n",
      "Epoch 1/1\n",
      "54000/54000 [==============================] - 45s - loss: 0.0601 - acc: 0.9812 - val_loss: 0.0438 - val_acc: 0.9870\n",
      " 9824/10000 [============================>.] - ETA: 0s\n",
      "\n",
      "\tTraining Epoch 3\n",
      "\t-----------------\n",
      "Train on 54000 samples, validate on 6000 samples\n",
      "Epoch 1/1\n",
      "54000/54000 [==============================] - 45s - loss: 0.0480 - acc: 0.9846 - val_loss: 0.0411 - val_acc: 0.9883\n",
      " 9984/10000 [============================>.] - ETA: 0s\n",
      "\n",
      "\tTraining Epoch 4\n",
      "\t-----------------\n",
      "Train on 54000 samples, validate on 6000 samples\n",
      "Epoch 1/1\n",
      "54000/54000 [==============================] - 45s - loss: 0.0392 - acc: 0.9876 - val_loss: 0.0395 - val_acc: 0.9888\n",
      " 9952/10000 [============================>.] - ETA: 0s\n",
      "\n",
      "\tTraining Epoch 5\n",
      "\t-----------------\n",
      "Train on 54000 samples, validate on 6000 samples\n",
      "Epoch 1/1\n",
      "54000/54000 [==============================] - 45s - loss: 0.0340 - acc: 0.9890 - val_loss: 0.0373 - val_acc: 0.9888\n",
      " 9856/10000 [============================>.] - ETA: 0s\n",
      "\n",
      "\tTraining Epoch 6\n",
      "\t-----------------\n",
      "Train on 54000 samples, validate on 6000 samples\n",
      "Epoch 1/1\n",
      "54000/54000 [==============================] - 45s - loss: 0.0286 - acc: 0.9906 - val_loss: 0.0351 - val_acc: 0.9898\n",
      " 9952/10000 [============================>.] - ETA: 0s\n",
      "\n",
      "\tTraining Epoch 7\n",
      "\t-----------------\n",
      "Train on 54000 samples, validate on 6000 samples\n",
      "Epoch 1/1\n",
      "54000/54000 [==============================] - 45s - loss: 0.0284 - acc: 0.9907 - val_loss: 0.0380 - val_acc: 0.9907\n",
      " 9856/10000 [============================>.] - ETA: 0s\n",
      "\n",
      "\tTraining Epoch 8\n",
      "\t-----------------\n",
      "Train on 54000 samples, validate on 6000 samples\n",
      "Epoch 1/1\n",
      "54000/54000 [==============================] - 45s - loss: 0.0241 - acc: 0.9922 - val_loss: 0.0335 - val_acc: 0.9912\n",
      " 9984/10000 [============================>.] - ETA: 0s\n",
      "\n",
      "\tTraining Epoch 9\n",
      "\t-----------------\n",
      "Train on 54000 samples, validate on 6000 samples\n",
      "Epoch 1/1\n",
      "54000/54000 [==============================] - 45s - loss: 0.0212 - acc: 0.9932 - val_loss: 0.0350 - val_acc: 0.9917\n",
      " 9856/10000 [============================>.] - ETA: 0s\n",
      "\n",
      "\tTraining Epoch 10\n",
      "\t-----------------\n",
      "Train on 54000 samples, validate on 6000 samples\n",
      "Epoch 1/1\n",
      "54000/54000 [==============================] - 45s - loss: 0.0206 - acc: 0.9931 - val_loss: 0.0365 - val_acc: 0.9905\n",
      "10000/10000 [==============================] - 2s     \n",
      "\n",
      "\n",
      "\tTraining Epoch 11\n",
      "\t-----------------\n",
      "Train on 54000 samples, validate on 6000 samples\n",
      "Epoch 1/1\n",
      "54000/54000 [==============================] - 43s - loss: 0.0178 - acc: 0.9939 - val_loss: 0.0346 - val_acc: 0.9922\n",
      "10000/10000 [==============================] - 2s     \n",
      "\n",
      "\n",
      "\tTraining Epoch 12\n",
      "\t-----------------\n",
      "Train on 54000 samples, validate on 6000 samples\n",
      "Epoch 1/1\n",
      "54000/54000 [==============================] - 41s - loss: 0.0154 - acc: 0.9951 - val_loss: 0.0377 - val_acc: 0.9895\n",
      " 9856/10000 [============================>.] - ETA: 0s\n",
      "\n",
      "\tTraining Epoch 13\n",
      "\t-----------------\n",
      "Train on 54000 samples, validate on 6000 samples\n",
      "Epoch 1/1\n",
      "54000/54000 [==============================] - 41s - loss: 0.0152 - acc: 0.9952 - val_loss: 0.0371 - val_acc: 0.9908\n",
      " 9888/10000 [============================>.] - ETA: 0s\n",
      "\n",
      "\tTraining Epoch 14\n",
      "\t-----------------\n",
      "Train on 54000 samples, validate on 6000 samples\n",
      "Epoch 1/1\n",
      "54000/54000 [==============================] - 41s - loss: 0.0146 - acc: 0.9948 - val_loss: 0.0356 - val_acc: 0.9912\n",
      " 9920/10000 [============================>.] - ETA: 0s\n",
      "\n",
      "\tTraining Epoch 15\n",
      "\t-----------------\n",
      "Train on 54000 samples, validate on 6000 samples\n",
      "Epoch 1/1\n",
      "54000/54000 [==============================] - 41s - loss: 0.0135 - acc: 0.9952 - val_loss: 0.0324 - val_acc: 0.9915\n",
      " 9824/10000 [============================>.] - ETA: 0s\n",
      "\n",
      "\tTraining Epoch 16\n",
      "\t-----------------\n",
      "Train on 54000 samples, validate on 6000 samples\n",
      "Epoch 1/1\n",
      "54000/54000 [==============================] - 41s - loss: 0.0133 - acc: 0.9954 - val_loss: 0.0354 - val_acc: 0.9915\n",
      " 9984/10000 [============================>.] - ETA: 0s\n",
      "\n",
      "\tTraining Epoch 17\n",
      "\t-----------------\n",
      "Train on 54000 samples, validate on 6000 samples\n",
      "Epoch 1/1\n",
      "54000/54000 [==============================] - 41s - loss: 0.0135 - acc: 0.9957 - val_loss: 0.0337 - val_acc: 0.9928\n",
      " 9952/10000 [============================>.] - ETA: 0s\n",
      "\n",
      "\tTraining Epoch 18\n",
      "\t-----------------\n",
      "Train on 54000 samples, validate on 6000 samples\n",
      "Epoch 1/1\n",
      "54000/54000 [==============================] - 41s - loss: 0.0127 - acc: 0.9956 - val_loss: 0.0374 - val_acc: 0.9913\n",
      " 9856/10000 [============================>.] - ETA: 0s\n",
      "\n",
      "\tTraining Epoch 19\n",
      "\t-----------------\n",
      "Train on 54000 samples, validate on 6000 samples\n",
      "Epoch 1/1\n",
      "54000/54000 [==============================] - 41s - loss: 0.0104 - acc: 0.9965 - val_loss: 0.0388 - val_acc: 0.9910\n",
      "10000/10000 [==============================] - 2s     \n",
      "\n",
      "\n",
      "\n",
      "\n",
      "model_5\n",
      "========\n",
      "\tTraining Epoch 0\n",
      "\t-----------------\n",
      "Train on 54000 samples, validate on 6000 samples\n",
      "Epoch 1/1\n",
      "54000/54000 [==============================] - 148s - loss: 0.2136 - acc: 0.9339 - val_loss: 0.0507 - val_acc: 0.9848\n",
      " 9984/10000 [============================>.] - ETA: 0s\n",
      "\n",
      "\tTraining Epoch 1\n",
      "\t-----------------\n",
      "Train on 54000 samples, validate on 6000 samples\n",
      "Epoch 1/1\n",
      "54000/54000 [==============================] - 149s - loss: 0.0727 - acc: 0.9773 - val_loss: 0.0454 - val_acc: 0.9855\n",
      " 9952/10000 [============================>.] - ETA: 0s\n",
      "\n",
      "\tTraining Epoch 2\n",
      "\t-----------------\n",
      "Train on 54000 samples, validate on 6000 samples\n",
      "Epoch 1/1\n",
      "54000/54000 [==============================] - 148s - loss: 0.0540 - acc: 0.9831 - val_loss: 0.0359 - val_acc: 0.9908\n",
      " 9984/10000 [============================>.] - ETA: 0s\n",
      "\n",
      "\tTraining Epoch 3\n",
      "\t-----------------\n",
      "Train on 54000 samples, validate on 6000 samples\n",
      "Epoch 1/1\n",
      "54000/54000 [==============================] - 147s - loss: 0.0418 - acc: 0.9870 - val_loss: 0.0338 - val_acc: 0.9908\n",
      " 9952/10000 [============================>.] - ETA: 0s\n",
      "\n",
      "\tTraining Epoch 4\n",
      "\t-----------------\n",
      "Train on 54000 samples, validate on 6000 samples\n",
      "Epoch 1/1\n",
      "54000/54000 [==============================] - 147s - loss: 0.0358 - acc: 0.9882 - val_loss: 0.0342 - val_acc: 0.9913\n",
      " 9952/10000 [============================>.] - ETA: 0s\n",
      "\n",
      "\tTraining Epoch 5\n",
      "\t-----------------\n",
      "Train on 54000 samples, validate on 6000 samples\n",
      "Epoch 1/1\n",
      "54000/54000 [==============================] - 147s - loss: 0.0327 - acc: 0.9895 - val_loss: 0.0353 - val_acc: 0.9907\n",
      " 9952/10000 [============================>.] - ETA: 0s\n",
      "\n",
      "\tTraining Epoch 6\n",
      "\t-----------------\n",
      "Train on 54000 samples, validate on 6000 samples\n",
      "Epoch 1/1\n",
      "54000/54000 [==============================] - 147s - loss: 0.0262 - acc: 0.9913 - val_loss: 0.0312 - val_acc: 0.9908\n",
      " 9952/10000 [============================>.] - ETA: 0s\n",
      "\n",
      "\tTraining Epoch 7\n",
      "\t-----------------\n",
      "Train on 54000 samples, validate on 6000 samples\n",
      "Epoch 1/1\n",
      "54000/54000 [==============================] - 147s - loss: 0.0244 - acc: 0.9921 - val_loss: 0.0295 - val_acc: 0.9930\n",
      " 9952/10000 [============================>.] - ETA: 0s\n",
      "\n",
      "\tTraining Epoch 8\n",
      "\t-----------------\n",
      "Train on 54000 samples, validate on 6000 samples\n",
      "Epoch 1/1\n",
      "54000/54000 [==============================] - 147s - loss: 0.0193 - acc: 0.9935 - val_loss: 0.0363 - val_acc: 0.9920\n",
      " 9952/10000 [============================>.] - ETA: 0s\n",
      "\n",
      "\tTraining Epoch 9\n",
      "\t-----------------\n",
      "Train on 54000 samples, validate on 6000 samples\n",
      "Epoch 1/1\n",
      "54000/54000 [==============================] - 146s - loss: 0.0183 - acc: 0.9938 - val_loss: 0.0300 - val_acc: 0.9927\n",
      " 9984/10000 [============================>.] - ETA: 0s\n",
      "\n",
      "\tTraining Epoch 10\n",
      "\t-----------------\n",
      "Train on 54000 samples, validate on 6000 samples\n",
      "Epoch 1/1\n",
      "54000/54000 [==============================] - 147s - loss: 0.0184 - acc: 0.9938 - val_loss: 0.0278 - val_acc: 0.9928\n",
      " 9984/10000 [============================>.] - ETA: 0s\n",
      "\n",
      "\tTraining Epoch 11\n",
      "\t-----------------\n",
      "Train on 54000 samples, validate on 6000 samples\n",
      "Epoch 1/1\n",
      "54000/54000 [==============================] - 146s - loss: 0.0165 - acc: 0.9942 - val_loss: 0.0287 - val_acc: 0.9928\n",
      " 9952/10000 [============================>.] - ETA: 0s\n",
      "\n",
      "\tTraining Epoch 12\n",
      "\t-----------------\n",
      "Train on 54000 samples, validate on 6000 samples\n",
      "Epoch 1/1\n",
      "54000/54000 [==============================] - 146s - loss: 0.0141 - acc: 0.9951 - val_loss: 0.0349 - val_acc: 0.9925\n",
      " 9984/10000 [============================>.] - ETA: 0s\n",
      "\n",
      "\tTraining Epoch 13\n",
      "\t-----------------\n",
      "Train on 54000 samples, validate on 6000 samples\n",
      "Epoch 1/1\n",
      "54000/54000 [==============================] - 147s - loss: 0.0142 - acc: 0.9951 - val_loss: 0.0313 - val_acc: 0.9918\n",
      " 9952/10000 [============================>.] - ETA: 0s\n",
      "\n",
      "\tTraining Epoch 14\n",
      "\t-----------------\n",
      "Train on 54000 samples, validate on 6000 samples\n",
      "Epoch 1/1\n",
      "54000/54000 [==============================] - 146s - loss: 0.0124 - acc: 0.9958 - val_loss: 0.0299 - val_acc: 0.9930\n",
      " 9952/10000 [============================>.] - ETA: 0s\n",
      "\n",
      "\tTraining Epoch 15\n",
      "\t-----------------\n",
      "Train on 54000 samples, validate on 6000 samples\n",
      "Epoch 1/1\n",
      "54000/54000 [==============================] - 146s - loss: 0.0121 - acc: 0.9959 - val_loss: 0.0258 - val_acc: 0.9933\n",
      " 9952/10000 [============================>.] - ETA: 0s\n",
      "\n",
      "\tTraining Epoch 16\n",
      "\t-----------------\n",
      "Train on 54000 samples, validate on 6000 samples\n",
      "Epoch 1/1\n",
      "54000/54000 [==============================] - 146s - loss: 0.0123 - acc: 0.9959 - val_loss: 0.0299 - val_acc: 0.9938\n",
      " 9984/10000 [============================>.] - ETA: 0s\n",
      "\n",
      "\tTraining Epoch 17\n",
      "\t-----------------\n",
      "Train on 54000 samples, validate on 6000 samples\n",
      "Epoch 1/1\n",
      "54000/54000 [==============================] - 146s - loss: 0.0116 - acc: 0.9960 - val_loss: 0.0286 - val_acc: 0.9927\n",
      " 9952/10000 [============================>.] - ETA: 0s\n",
      "\n",
      "\tTraining Epoch 18\n",
      "\t-----------------\n",
      "Train on 54000 samples, validate on 6000 samples\n",
      "Epoch 1/1\n",
      "54000/54000 [==============================] - 145s - loss: 0.0096 - acc: 0.9966 - val_loss: 0.0328 - val_acc: 0.9930\n",
      " 9984/10000 [============================>.] - ETA: 0s\n",
      "\n",
      "\tTraining Epoch 19\n",
      "\t-----------------\n",
      "Train on 54000 samples, validate on 6000 samples\n",
      "Epoch 1/1\n",
      "54000/54000 [==============================] - 146s - loss: 0.0091 - acc: 0.9969 - val_loss: 0.0258 - val_acc: 0.9942\n",
      " 9984/10000 [============================>.] - ETA: 0s\n",
      "\n",
      "\n",
      "\n",
      "model_2\n",
      "========\n",
      "\tTraining Epoch 0\n",
      "\t-----------------\n",
      "Train on 54000 samples, validate on 6000 samples\n",
      "Epoch 1/1\n",
      "54000/54000 [==============================] - 39s - loss: 0.3054 - acc: 0.9056 - val_loss: 0.0773 - val_acc: 0.9768\n",
      " 9824/10000 [============================>.] - ETA: 0s\n",
      "\n",
      "\tTraining Epoch 1\n",
      "\t-----------------\n",
      "Train on 54000 samples, validate on 6000 samples\n",
      "Epoch 1/1\n",
      "54000/54000 [==============================] - 39s - loss: 0.1183 - acc: 0.9632 - val_loss: 0.0562 - val_acc: 0.9827\n",
      "10000/10000 [==============================] - 2s     \n",
      "\n",
      "\n",
      "\tTraining Epoch 2\n",
      "\t-----------------\n",
      "Train on 54000 samples, validate on 6000 samples\n",
      "Epoch 1/1\n",
      "54000/54000 [==============================] - 39s - loss: 0.0928 - acc: 0.9709 - val_loss: 0.0498 - val_acc: 0.9852\n",
      " 9824/10000 [============================>.] - ETA: 0s\n",
      "\n",
      "\tTraining Epoch 3\n",
      "\t-----------------\n",
      "Train on 54000 samples, validate on 6000 samples\n",
      "Epoch 1/1\n",
      "54000/54000 [==============================] - 39s - loss: 0.0781 - acc: 0.9753 - val_loss: 0.0439 - val_acc: 0.9887\n",
      " 9824/10000 [============================>.] - ETA: 0s\n",
      "\n",
      "\tTraining Epoch 4\n",
      "\t-----------------\n",
      "Train on 54000 samples, validate on 6000 samples\n",
      "Epoch 1/1\n",
      "54000/54000 [==============================] - 39s - loss: 0.0698 - acc: 0.9776 - val_loss: 0.0393 - val_acc: 0.9888\n",
      " 9824/10000 [============================>.] - ETA: 0s\n",
      "\n",
      "\tTraining Epoch 5\n",
      "\t-----------------\n",
      "Train on 54000 samples, validate on 6000 samples\n",
      "Epoch 1/1\n",
      "54000/54000 [==============================] - 39s - loss: 0.0630 - acc: 0.9794 - val_loss: 0.0379 - val_acc: 0.9895\n",
      " 9952/10000 [============================>.] - ETA: 0s\n",
      "\n",
      "\tTraining Epoch 6\n",
      "\t-----------------\n",
      "Train on 54000 samples, validate on 6000 samples\n",
      "Epoch 1/1\n",
      "54000/54000 [==============================] - 40s - loss: 0.0548 - acc: 0.9821 - val_loss: 0.0390 - val_acc: 0.9893\n",
      " 9792/10000 [============================>.] - ETA: 0s\n",
      "\n",
      "\tTraining Epoch 7\n",
      "\t-----------------\n",
      "Train on 54000 samples, validate on 6000 samples\n",
      "Epoch 1/1\n",
      "54000/54000 [==============================] - 40s - loss: 0.0527 - acc: 0.9832 - val_loss: 0.0385 - val_acc: 0.9897\n",
      " 9792/10000 [============================>.] - ETA: 0s\n",
      "\n",
      "\tTraining Epoch 8\n",
      "\t-----------------\n",
      "Train on 54000 samples, validate on 6000 samples\n",
      "Epoch 1/1\n",
      "54000/54000 [==============================] - 39s - loss: 0.0486 - acc: 0.9842 - val_loss: 0.0337 - val_acc: 0.9895\n",
      " 9792/10000 [============================>.] - ETA: 0s\n",
      "\n",
      "\tTraining Epoch 9\n",
      "\t-----------------\n",
      "Train on 54000 samples, validate on 6000 samples\n",
      "Epoch 1/1\n",
      "54000/54000 [==============================] - 39s - loss: 0.0444 - acc: 0.9855 - val_loss: 0.0338 - val_acc: 0.9907\n",
      " 9792/10000 [============================>.] - ETA: 0s\n",
      "\n",
      "\tTraining Epoch 10\n",
      "\t-----------------\n",
      "Train on 54000 samples, validate on 6000 samples\n",
      "Epoch 1/1\n",
      "54000/54000 [==============================] - 40s - loss: 0.0420 - acc: 0.9863 - val_loss: 0.0313 - val_acc: 0.9907\n",
      " 9824/10000 [============================>.] - ETA: 0s\n",
      "\n",
      "\tTraining Epoch 11\n",
      "\t-----------------\n",
      "Train on 54000 samples, validate on 6000 samples\n",
      "Epoch 1/1\n",
      "54000/54000 [==============================] - 40s - loss: 0.0424 - acc: 0.9862 - val_loss: 0.0360 - val_acc: 0.9895\n",
      " 9824/10000 [============================>.] - ETA: 0s\n",
      "\n",
      "\tTraining Epoch 12\n",
      "\t-----------------\n",
      "Train on 54000 samples, validate on 6000 samples\n",
      "Epoch 1/1\n",
      "54000/54000 [==============================] - 40s - loss: 0.0398 - acc: 0.9871 - val_loss: 0.0298 - val_acc: 0.9922\n",
      " 9760/10000 [============================>.] - ETA: 0s\n",
      "\n",
      "\tTraining Epoch 13\n",
      "\t-----------------\n",
      "Train on 54000 samples, validate on 6000 samples\n",
      "Epoch 1/1\n",
      "54000/54000 [==============================] - 40s - loss: 0.0376 - acc: 0.9877 - val_loss: 0.0299 - val_acc: 0.9907\n",
      "10000/10000 [==============================] - 2s     \n",
      "\n",
      "\n",
      "\tTraining Epoch 14\n",
      "\t-----------------\n",
      "Train on 54000 samples, validate on 6000 samples\n",
      "Epoch 1/1\n",
      "54000/54000 [==============================] - 40s - loss: 0.0346 - acc: 0.9884 - val_loss: 0.0359 - val_acc: 0.9900\n",
      "10000/10000 [==============================] - 2s     \n",
      "\n",
      "\n",
      "\tTraining Epoch 15\n",
      "\t-----------------\n",
      "Train on 54000 samples, validate on 6000 samples\n",
      "Epoch 1/1\n",
      "54000/54000 [==============================] - 40s - loss: 0.0342 - acc: 0.9886 - val_loss: 0.0304 - val_acc: 0.9910\n",
      " 9920/10000 [============================>.] - ETA: 0s\n",
      "\n",
      "\tTraining Epoch 16\n",
      "\t-----------------\n",
      "Train on 54000 samples, validate on 6000 samples\n",
      "Epoch 1/1\n",
      "54000/54000 [==============================] - 41s - loss: 0.0316 - acc: 0.9893 - val_loss: 0.0305 - val_acc: 0.9930\n",
      " 9984/10000 [============================>.] - ETA: 0s\n",
      "\n",
      "\tTraining Epoch 17\n",
      "\t-----------------\n",
      "Train on 54000 samples, validate on 6000 samples\n",
      "Epoch 1/1\n",
      "54000/54000 [==============================] - 40s - loss: 0.0301 - acc: 0.9907 - val_loss: 0.0315 - val_acc: 0.9918\n",
      " 9984/10000 [============================>.] - ETA: 0s\n",
      "\n",
      "\tTraining Epoch 18\n",
      "\t-----------------\n",
      "Train on 54000 samples, validate on 6000 samples\n",
      "Epoch 1/1\n",
      "54000/54000 [==============================] - 40s - loss: 0.0324 - acc: 0.9894 - val_loss: 0.0292 - val_acc: 0.9918\n",
      " 9824/10000 [============================>.] - ETA: 0s\n",
      "\n",
      "\tTraining Epoch 19\n",
      "\t-----------------\n",
      "Train on 54000 samples, validate on 6000 samples\n",
      "Epoch 1/1\n",
      "54000/54000 [==============================] - 40s - loss: 0.0281 - acc: 0.9909 - val_loss: 0.0272 - val_acc: 0.9922\n",
      " 9920/10000 [============================>.] - ETA: 0s\n",
      "\n",
      "\n",
      "\n",
      "model_0\n",
      "========\n",
      "\tTraining Epoch 0\n",
      "\t-----------------\n",
      "Train on 54000 samples, validate on 6000 samples\n",
      "Epoch 1/1\n",
      "54000/54000 [==============================] - 37s - loss: 0.2415 - acc: 0.9277 - val_loss: 0.0627 - val_acc: 0.9823\n",
      " 9984/10000 [============================>.] - ETA: 0s\n",
      "\n",
      "\tTraining Epoch 1\n",
      "\t-----------------\n",
      "Train on 54000 samples, validate on 6000 samples\n",
      "Epoch 1/1\n",
      "54000/54000 [==============================] - 36s - loss: 0.0897 - acc: 0.9724 - val_loss: 0.0504 - val_acc: 0.9867\n",
      " 9920/10000 [============================>.] - ETA: 0s\n",
      "\n",
      "\tTraining Epoch 2\n",
      "\t-----------------\n",
      "Train on 54000 samples, validate on 6000 samples\n",
      "Epoch 1/1\n",
      "54000/54000 [==============================] - 36s - loss: 0.0651 - acc: 0.9796 - val_loss: 0.0431 - val_acc: 0.9880\n",
      " 9824/10000 [============================>.] - ETA: 0s\n",
      "\n",
      "\tTraining Epoch 3\n",
      "\t-----------------\n",
      "Train on 54000 samples, validate on 6000 samples\n",
      "Epoch 1/1\n",
      "54000/54000 [==============================] - 36s - loss: 0.0524 - acc: 0.9835 - val_loss: 0.0401 - val_acc: 0.9892\n",
      " 9952/10000 [============================>.] - ETA: 0s\n",
      "\n",
      "\tTraining Epoch 4\n",
      "\t-----------------\n",
      "Train on 54000 samples, validate on 6000 samples\n",
      "Epoch 1/1\n",
      "54000/54000 [==============================] - 36s - loss: 0.0451 - acc: 0.9858 - val_loss: 0.0369 - val_acc: 0.9905\n",
      " 9952/10000 [============================>.] - ETA: 0s\n",
      "\n",
      "\tTraining Epoch 5\n",
      "\t-----------------\n",
      "Train on 54000 samples, validate on 6000 samples\n",
      "Epoch 1/1\n",
      "54000/54000 [==============================] - 36s - loss: 0.0368 - acc: 0.9875 - val_loss: 0.0399 - val_acc: 0.9898\n",
      " 9856/10000 [============================>.] - ETA: 0s\n",
      "\n",
      "\tTraining Epoch 6\n",
      "\t-----------------\n",
      "Train on 54000 samples, validate on 6000 samples\n",
      "Epoch 1/1\n",
      "54000/54000 [==============================] - 36s - loss: 0.0340 - acc: 0.9889 - val_loss: 0.0413 - val_acc: 0.9895\n",
      " 9888/10000 [============================>.] - ETA: 0s\n",
      "\n",
      "\tTraining Epoch 7\n",
      "\t-----------------\n",
      "Train on 54000 samples, validate on 6000 samples\n",
      "Epoch 1/1\n",
      "54000/54000 [==============================] - 36s - loss: 0.0275 - acc: 0.9910 - val_loss: 0.0383 - val_acc: 0.9907\n",
      " 9920/10000 [============================>.] - ETA: 0s\n",
      "\n",
      "\tTraining Epoch 8\n",
      "\t-----------------\n",
      "Train on 54000 samples, validate on 6000 samples\n",
      "Epoch 1/1\n",
      "54000/54000 [==============================] - 36s - loss: 0.0259 - acc: 0.9913 - val_loss: 0.0332 - val_acc: 0.9913\n",
      " 9984/10000 [============================>.] - ETA: 0s\n",
      "\n",
      "\tTraining Epoch 9\n",
      "\t-----------------\n",
      "Train on 54000 samples, validate on 6000 samples\n",
      "Epoch 1/1\n",
      "54000/54000 [==============================] - 36s - loss: 0.0230 - acc: 0.9922 - val_loss: 0.0376 - val_acc: 0.9902\n",
      " 9984/10000 [============================>.] - ETA: 0s\n",
      "\n",
      "\tTraining Epoch 10\n",
      "\t-----------------\n",
      "Train on 54000 samples, validate on 6000 samples\n",
      "Epoch 1/1\n",
      "54000/54000 [==============================] - 36s - loss: 0.0211 - acc: 0.9928 - val_loss: 0.0336 - val_acc: 0.9900\n",
      " 9888/10000 [============================>.] - ETA: 0s\n",
      "\n",
      "\tTraining Epoch 11\n",
      "\t-----------------\n",
      "Train on 54000 samples, validate on 6000 samples\n",
      "Epoch 1/1\n",
      "54000/54000 [==============================] - 36s - loss: 0.0191 - acc: 0.9939 - val_loss: 0.0326 - val_acc: 0.9912\n",
      " 9888/10000 [============================>.] - ETA: 0s\n",
      "\n",
      "\tTraining Epoch 12\n",
      "\t-----------------\n",
      "Train on 54000 samples, validate on 6000 samples\n",
      "Epoch 1/1\n",
      "54000/54000 [==============================] - 36s - loss: 0.0185 - acc: 0.9941 - val_loss: 0.0390 - val_acc: 0.9907\n",
      " 9760/10000 [============================>.] - ETA: 0s\n",
      "\n",
      "\tTraining Epoch 13\n",
      "\t-----------------\n",
      "Train on 54000 samples, validate on 6000 samples\n",
      "Epoch 1/1\n",
      "54000/54000 [==============================] - 36s - loss: 0.0171 - acc: 0.9941 - val_loss: 0.0344 - val_acc: 0.9923\n",
      " 9888/10000 [============================>.] - ETA: 0s\n",
      "\n",
      "\tTraining Epoch 14\n",
      "\t-----------------\n",
      "Train on 54000 samples, validate on 6000 samples\n",
      "Epoch 1/1\n",
      "54000/54000 [==============================] - 36s - loss: 0.0161 - acc: 0.9946 - val_loss: 0.0365 - val_acc: 0.9900\n",
      " 9952/10000 [============================>.] - ETA: 0s\n",
      "\n",
      "\tTraining Epoch 15\n",
      "\t-----------------\n",
      "Train on 54000 samples, validate on 6000 samples\n",
      "Epoch 1/1\n",
      "54000/54000 [==============================] - 36s - loss: 0.0137 - acc: 0.9952 - val_loss: 0.0386 - val_acc: 0.9905\n",
      " 9888/10000 [============================>.] - ETA: 0s\n",
      "\n",
      "\tTraining Epoch 16\n",
      "\t-----------------\n",
      "Train on 54000 samples, validate on 6000 samples\n",
      "Epoch 1/1\n",
      "54000/54000 [==============================] - 36s - loss: 0.0136 - acc: 0.9950 - val_loss: 0.0399 - val_acc: 0.9892\n",
      " 9824/10000 [============================>.] - ETA: 0s\n",
      "\n",
      "\tTraining Epoch 17\n",
      "\t-----------------\n",
      "Train on 54000 samples, validate on 6000 samples\n",
      "Epoch 1/1\n",
      "54000/54000 [==============================] - 36s - loss: 0.0143 - acc: 0.9950 - val_loss: 0.0372 - val_acc: 0.9910\n",
      " 9984/10000 [============================>.] - ETA: 0s\n",
      "\n",
      "\tTraining Epoch 18\n",
      "\t-----------------\n",
      "Train on 54000 samples, validate on 6000 samples\n",
      "Epoch 1/1\n",
      "54000/54000 [==============================] - 36s - loss: 0.0123 - acc: 0.9958 - val_loss: 0.0410 - val_acc: 0.9905\n",
      " 9888/10000 [============================>.] - ETA: 0s\n",
      "\n",
      "\tTraining Epoch 19\n",
      "\t-----------------\n",
      "Train on 54000 samples, validate on 6000 samples\n",
      "Epoch 1/1\n",
      "54000/54000 [==============================] - 36s - loss: 0.0118 - acc: 0.9960 - val_loss: 0.0365 - val_acc: 0.9908\n",
      " 9888/10000 [============================>.] - ETA: 0s\n",
      "\n",
      "\n",
      "\n"
     ]
    }
   ],
   "source": [
    "MODEL_ACCURACY_DATA = {}\n",
    "\n",
    "for model_name, model_obj in models.items():\n",
    "    print(\"{}\".format(model_name))\n",
    "    print(\"========\")\n",
    "    \n",
    "    # Initialize MODEL_ACCURACY_DATA dict\n",
    "    MODEL_ACCURACY_DATA[model_name] = {}\n",
    "    \n",
    "    # Set current model\n",
    "    current_model = model_obj[\"model\"]\n",
    "    \n",
    "    # Set epochs list into MODEL DATA and model accuracy data\n",
    "    MODEL_DATA[model_name][\"epochs\"] = {}\n",
    "    MODEL_ACCURACY_DATA[model_name][\"epochs\"] = {}\n",
    "    \n",
    "    for epoch_num in range(total_training_epochs):\n",
    "        print(\"\\tTraining Epoch {}\".format(epoch_num))\n",
    "        print(\"\\t-----------------\")\n",
    "        \n",
    "        # Set epoch name\n",
    "        epoch_name = \"epoch_{}\".format(epoch_num)\n",
    "        \n",
    "        # Append new epoch num to MODEL DATA and MODEL_ACCURACY_DATA\n",
    "        MODEL_DATA[model_name][\"epochs\"][epoch_name] = {\"scores\" : None, \"conv_layers\" : {}}\n",
    "        MODEL_ACCURACY_DATA[model_name][\"epochs\"][epoch_name] = {\"scores\" : None}\n",
    "        \n",
    "        # Set callbacks\n",
    "        callbacks = set_callbacks(model_name, epoch_name) if SAVE_EPOCH_WEIGHTS else []\n",
    "        \n",
    "        # Fit model\n",
    "        current_model.fit(X_train, Y_train,                \n",
    "                          batch_size=batch_size, epochs=1,\n",
    "                          callbacks=callbacks,\n",
    "                          verbose=1, validation_split=fit_validation_split)\n",
    "        \n",
    "        \n",
    "        # Evaluate model\n",
    "        evaluate_model(current_model, model_name, epoch_name)\n",
    "        \n",
    "        # Save model filters\n",
    "        if SAVE_ALL_FILTERS:\n",
    "            save_model_filters(current_model, model_name, epoch_name)\n",
    "        \n",
    "        \n",
    "        print(\"\\n\")\n",
    "    print(\"\\n\")"
   ]
  },
  {
   "cell_type": "markdown",
   "metadata": {},
   "source": [
    "# CONFUSION MATRIX"
   ]
  },
  {
   "cell_type": "markdown",
   "metadata": {},
   "source": [
    "#### Confusion Matrix Generator"
   ]
  },
  {
   "cell_type": "code",
   "execution_count": 27,
   "metadata": {
    "collapsed": true
   },
   "outputs": [],
   "source": [
    "def generate_confusion_matrix(y_true, y_pred):\n",
    "    \n",
    "    y_pred_labels = np.zeros((y_pred.shape[0], 1))\n",
    "    for i in range(len(y_pred)):\n",
    "        y_pred_labels[i] = np.where(y_pred[i] == 1)[0][0]\n",
    "    \n",
    "    y_pred_labels = y_pred_labels.astype(\"int\")\n",
    "    \n",
    "    conf_mat = np.zeros((10, 10))\n",
    "    for index, (y_t, y_p) in enumerate(zip(y_true, y_pred_labels)):\n",
    "       \n",
    "        conf_mat[y_t, y_p]+=1\n",
    "    \n",
    "    return conf_mat.astype(\"int\")"
   ]
  },
  {
   "cell_type": "markdown",
   "metadata": {},
   "source": [
    "### Create Confusion Matrices"
   ]
  },
  {
   "cell_type": "code",
   "execution_count": 28,
   "metadata": {
    "collapsed": false
   },
   "outputs": [],
   "source": [
    "CONFUSION_MATRICES = {}\n",
    "for model_name, model_obj in models.items():\n",
    "    \n",
    "    # Set current model\n",
    "    current_model = model_obj[\"model\"]\n",
    "    \n",
    "    # Get model prediction\n",
    "    y_pred = current_model.predict(X_test)\n",
    "    \n",
    "    # Process probabilities into one-hot coding\n",
    "    for i in range(len(y_pred)):\n",
    "        y_pred[i][np.where(y_pred[i]==np.max(y_pred[i]))] = 1\n",
    "        y_pred[i][np.where(y_pred[i]!=np.max(y_pred[i]))] = 0\n",
    "        \n",
    "    # Generate confusion matrix\n",
    "    confusion_matrix = generate_confusion_matrix(y_test, y_pred)\n",
    "\n",
    "    CONFUSION_MATRICES[model_name] = {\"confusion_matrix\" : confusion_matrix }\n",
    "        \n"
   ]
  },
  {
   "cell_type": "markdown",
   "metadata": {},
   "source": [
    "### Plot Confusion Matrix"
   ]
  },
  {
   "cell_type": "code",
   "execution_count": 29,
   "metadata": {
    "collapsed": false
   },
   "outputs": [
    {
     "data": {
      "text/plain": [
       "[<matplotlib.text.Text at 0x13fd0c2b0>, <matplotlib.text.Text at 0x13fd0a8d0>]"
      ]
     },
     "execution_count": 29,
     "metadata": {},
     "output_type": "execute_result"
    },
    {
     "data": {
      "image/png": "[encoded data removed]",
      "text/plain": [
       "<matplotlib.figure.Figure at 0x12f460d30>"
      ]
     },
     "metadata": {},
     "output_type": "display_data"
    }
   ],
   "source": [
    "model_ = \"model_1\"\n",
    "\n",
    "conf_mat = CONFUSION_MATRICES[model_][\"confusion_matrix\"]\n",
    "\n",
    "# Set up the matplotlib figure\n",
    "f, ax = plt.subplots(figsize=(10, 10))\n",
    "\n",
    "# Generate a custom diverging colormap\n",
    "cmap = sns.diverging_palette(220, 10, as_cmap=True)\n",
    "\n",
    "# Draw the heatmap with the mask and correct aspect ratio\n",
    "ax = sns.heatmap(conf_mat, annot=True, fmt=\"d\", linewidths=.5, ax=ax)\n",
    "\n",
    "ax.set(xlabel='Predicted Labels', ylabel='True Labels')\n"
   ]
  },
  {
   "cell_type": "markdown",
   "metadata": {},
   "source": [
    "## Save Models"
   ]
  },
  {
   "cell_type": "code",
   "execution_count": 30,
   "metadata": {
    "collapsed": false
   },
   "outputs": [
    {
     "name": "stdout",
     "output_type": "stream",
     "text": [
      "Saved model to disk\n",
      "Saved model to disk\n",
      "Saved model to disk\n",
      "Saved model to disk\n",
      "Saved model to disk\n",
      "Saved model to disk\n"
     ]
    }
   ],
   "source": [
    "for model_name, model_obj in models.items():\n",
    "    \n",
    "    current_arch = model_obj[\"arch\"]\n",
    "    current_kenrel_size = model_obj[\"kernel\"]\n",
    "    \n",
    "    arch_string = \"\"\n",
    "    accept_layers = [\"conv\", \"relu\", \"maxpool\"]\n",
    "    for lay in current_arch:\n",
    "        if lay in accept_layers:\n",
    "            first_char = lay[0].upper()\n",
    "            if lay == \"maxpool\":\n",
    "                first_char = \"P\"\n",
    "            arch_string += first_char\n",
    "    \n",
    "    \n",
    "        \n",
    "    filename = \"8{}121{}\".format(current_kenrel_size, arch_string)\n",
    "    \n",
    "    \n",
    "    # Set current model\n",
    "    current_model = model_obj[\"model\"]\n",
    "    \n",
    "    directory = \"../models/{}\".format(filename)\n",
    "    \n",
    "    if not os.path.exists(directory):\n",
    "        os.makedirs(directory)\n",
    "        \n",
    "    with open(\"../models/{}/model_score.json\".format(filename), \"w\") as model_scores_file:\n",
    "        json.dump(MODEL_ACCURACY_DATA[model_name][\"epochs\"], model_scores_file)\n",
    "    \n",
    "    # Convert to JSON\n",
    "    model_json = current_model.to_json()\n",
    "    \n",
    "    with open(\"../models/{}/model.json\".format(filename), \"w\") as json_file:\n",
    "        json_file.write(model_json)\n",
    "        \n",
    "    # serialize weights to HDF5\n",
    "    current_model.save_weights(\"../models/{}/model.h5\".format(filename))\n",
    "    print(\"Saved model to disk\")\n",
    "    \n",
    "    # MODELS_DATA\n",
    "    with open(\"../models/{}/model_data.json\".format(filename), \"w\") as json_file:\n",
    "        json.dump(MODEL_DATA, json_file)\n",
    "        \n",
    "    # Save CONFUSION_MATRICES\n",
    "    conf_mat = CONFUSION_MATRICES[model_name][\"confusion_matrix\"]\n",
    "    with open(\"../models/{}/model_confusion_matrix.json\".format(filename), \"w\") as json_file:\n",
    "        json.dump(conf_mat.tolist(), json_file)\n",
    "    \n",
    "    \n"
   ]
  },
  {
   "cell_type": "markdown",
   "metadata": {},
   "source": [
    "# Hidden Layer Visualization"
   ]
  },
  {
   "cell_type": "code",
   "execution_count": 31,
   "metadata": {
    "collapsed": false
   },
   "outputs": [],
   "source": [
    "layer_name = \"conv_0\"\n",
    "\n",
    "model = models[\"model_0\"][\"model\"]\n",
    "\n",
    "new_model = Model(inputs=model.input,\n",
    "                  outputs=model.get_layer(layer_name).output)"
   ]
  },
  {
   "cell_type": "code",
   "execution_count": 32,
   "metadata": {
    "collapsed": false
   },
   "outputs": [],
   "source": [
    "new_model_out = new_model.predict(X_test)"
   ]
  },
  {
   "cell_type": "markdown",
   "metadata": {},
   "source": [
    "# Save Conv Filters"
   ]
  },
  {
   "cell_type": "markdown",
   "metadata": {},
   "source": [
    "### Set Test Image for Filters"
   ]
  },
  {
   "cell_type": "code",
   "execution_count": 33,
   "metadata": {
    "collapsed": true
   },
   "outputs": [],
   "source": [
    "test_image_index = np.random.randint(0, len(X_test) - 1)\n",
    "test_image = X_test[test_image_index]\n",
    "test_image = test_image.reshape(test_image.shape[0], test_image.shape[1])"
   ]
  },
  {
   "cell_type": "markdown",
   "metadata": {},
   "source": [
    "### Plot filter images function"
   ]
  },
  {
   "cell_type": "code",
   "execution_count": 34,
   "metadata": {
    "collapsed": true
   },
   "outputs": [],
   "source": [
    "def display_filters(conv_depth, filters):\n",
    "    fig = plt.figure()\n",
    "\n",
    "    for i in range(conv_depth):\n",
    "        filter_num = i+1\n",
    "        ax = plt.subplot(conv_depth//4+1, 4, filter_num)\n",
    "\n",
    "        imshow = plt.imshow #alias\n",
    "        imshow(filters[i])\n",
    "\n",
    "        ax.set_title(\"Filter: {}\".format(filter_num))\n",
    "        ax.set_xticks([])\n",
    "        ax.set_yticks([])\n",
    "\n",
    "    fig.set_figwidth(20)\n",
    "    fig.set_figheight(20)"
   ]
  },
  {
   "cell_type": "markdown",
   "metadata": {},
   "source": [
    "<hr>\n"
   ]
  },
  {
   "cell_type": "markdown",
   "metadata": {},
   "source": [
    "<hr>\n"
   ]
  },
  {
   "cell_type": "markdown",
   "metadata": {},
   "source": [
    "<hr>\n"
   ]
  },
  {
   "cell_type": "markdown",
   "metadata": {},
   "source": [
    "<hr>\n"
   ]
  },
  {
   "cell_type": "markdown",
   "metadata": {},
   "source": [
    "# Plot Test Image"
   ]
  },
  {
   "cell_type": "code",
   "execution_count": 35,
   "metadata": {
    "collapsed": false
   },
   "outputs": [],
   "source": [
    "test_image_index = np.random.randint(0, len(X_test) - 1)\n",
    "test_image = X_test[test_image_index]\n",
    "test_image = test_image.reshape(test_image.shape[0], test_image.shape[1])"
   ]
  },
  {
   "cell_type": "code",
   "execution_count": 36,
   "metadata": {
    "collapsed": false
   },
   "outputs": [
    {
     "data": {
      "text/plain": [
       "<matplotlib.image.AxesImage at 0x1328c0208>"
      ]
     },
     "execution_count": 36,
     "metadata": {},
     "output_type": "execute_result"
    },
    {
     "data": {
      "image/png": "[encoded data removed]",
      "text/plain": [
       "<matplotlib.figure.Figure at 0x12f5cea20>"
      ]
     },
     "metadata": {},
     "output_type": "display_data"
    }
   ],
   "source": [
    "imshow = plt.imshow #alias\n",
    "plt.title(\"Test Image\")\n",
    "imshow(test_image)"
   ]
  },
  {
   "cell_type": "markdown",
   "metadata": {},
   "source": [
    "# Setup Hidden Layer Filters"
   ]
  },
  {
   "cell_type": "code",
   "execution_count": 37,
   "metadata": {
    "collapsed": false
   },
   "outputs": [],
   "source": [
    "conv_depth = conv_depth_1 if (layer_name == \"conv_0\" or layer_name == \"conv_1\") else conv_depth_2\n",
    "filters = [new_model_out[test_image_index,:,:,filt_id] for filt_id in range(conv_depth)]"
   ]
  },
  {
   "cell_type": "markdown",
   "metadata": {},
   "source": [
    "# Show Filters"
   ]
  },
  {
   "cell_type": "code",
   "execution_count": 38,
   "metadata": {
    "collapsed": false
   },
   "outputs": [
    {
     "data": {
      "image/png": "[encoded data removed]",
      "text/plain": [
       "<matplotlib.figure.Figure at 0x13ef40710>"
      ]
     },
     "metadata": {},
     "output_type": "display_data"
    }
   ],
   "source": [
    "fig = plt.figure()\n",
    "\n",
    "for i in range(conv_depth):\n",
    "    filter_num = i+1\n",
    "    ax = plt.subplot(conv_depth//4+1, 4, filter_num)\n",
    "    \n",
    "    imshow = plt.imshow #alias\n",
    "    imshow(filters[i])\n",
    "#     imshow(filters[i], cmap=plt.get_cmap('gray'))\n",
    "    \n",
    "    ax.set_title(\"Filter: {}\".format(filter_num))\n",
    "    ax.set_xticks([])\n",
    "    ax.set_yticks([])\n",
    "    \n",
    "fig.set_figwidth(20)\n",
    "fig.set_figheight(20)"
   ]
  },
  {
   "cell_type": "markdown",
   "metadata": {},
   "source": [
    "<hr>\n"
   ]
  },
  {
   "cell_type": "markdown",
   "metadata": {},
   "source": [
    "<hr>\n"
   ]
  },
  {
   "cell_type": "markdown",
   "metadata": {},
   "source": [
    "<hr>\n"
   ]
  },
  {
   "cell_type": "markdown",
   "metadata": {},
   "source": [
    "<hr>\n"
   ]
  },
  {
   "cell_type": "markdown",
   "metadata": {},
   "source": [
    "# References"
   ]
  },
  {
   "cell_type": "markdown",
   "metadata": {},
   "source": [
    "https://keras.io/getting-started/faq/#how-can-i-obtain-the-output-of-an-intermediate-layer\n",
    "\n",
    "\n",
    "\n",
    "\n",
    "https://github.com/fchollet/keras/issues/431\n",
    "\n",
    "http://stackoverflow.com/questions/36745821/keras-1-0-getting-intermediate-layer-output/36789699#36789699\n",
    "\n",
    "https://github.com/fchollet/keras/issues/2417\n",
    "\n",
    "http://stackoverflow.com/questions/41911883/typeerror-tensor-object-is-not-callable"
   ]
  }
 ],
 "metadata": {
  "anaconda-cloud": {},
  "kernelspec": {
   "display_name": "Python [default]",
   "language": "python",
   "name": "python3"
  },
  "language_info": {
   "codemirror_mode": {
    "name": "ipython",
    "version": 3
   },
   "file_extension": ".py",
   "mimetype": "text/x-python",
   "name": "python",
   "nbconvert_exporter": "python",
   "pygments_lexer": "ipython3",
   "version": "3.5.2"
  }
 },
 "nbformat": 4,
 "nbformat_minor": 1
}
