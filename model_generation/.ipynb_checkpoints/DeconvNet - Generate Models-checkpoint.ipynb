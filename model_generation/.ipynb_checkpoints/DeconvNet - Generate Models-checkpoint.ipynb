{
 "cells": [
  {
   "cell_type": "markdown",
   "metadata": {},
   "source": [
    "# Deep Neural Network Visualization - Create Models\n",
    "<hr>"
   ]
  },
  {
   "cell_type": "markdown",
   "metadata": {},
   "source": [
    "# 0. Setup Libraries"
   ]
  },
  {
   "cell_type": "code",
   "execution_count": 1,
   "metadata": {
    "collapsed": false
   },
   "outputs": [
    {
     "name": "stderr",
     "output_type": "stream",
     "text": [
      "Using TensorFlow backend.\n"
     ]
    }
   ],
   "source": [
    "import os\n",
    "os.environ['TF_CPP_MIN_LOG_LEVEL']='2'\n",
    "\n",
    "import keras"
   ]
  },
  {
   "cell_type": "code",
   "execution_count": 2,
   "metadata": {
    "collapsed": true
   },
   "outputs": [],
   "source": [
    "from keras.datasets import mnist\n",
    "from keras.models import Sequential\n",
    "\n",
    "from keras.layers import Dense, Dropout, Activation, Flatten\n",
    "from keras.layers import Conv2D, MaxPooling2D\n",
    "\n",
    "from keras.utils import np_utils\n",
    "from keras.callbacks import EarlyStopping, ModelCheckpoint\n",
    "\n",
    "from keras.optimizers import RMSprop\n",
    "from keras.models import model_from_json"
   ]
  },
  {
   "cell_type": "code",
   "execution_count": 3,
   "metadata": {
    "collapsed": true
   },
   "outputs": [],
   "source": [
    "import seaborn as sns\n",
    "import matplotlib.pyplot as plt\n",
    "import matplotlib.image as mpimg"
   ]
  },
  {
   "cell_type": "code",
   "execution_count": 4,
   "metadata": {
    "collapsed": true
   },
   "outputs": [],
   "source": [
    "import numpy as np\n",
    "import scipy\n",
    "import re"
   ]
  },
  {
   "cell_type": "code",
   "execution_count": 5,
   "metadata": {
    "collapsed": false
   },
   "outputs": [],
   "source": [
    "from PIL import Image"
   ]
  },
  {
   "cell_type": "code",
   "execution_count": 6,
   "metadata": {
    "collapsed": true
   },
   "outputs": [],
   "source": [
    "import codecs\n",
    "import json "
   ]
  },
  {
   "cell_type": "markdown",
   "metadata": {},
   "source": [
    "### Set Current Path"
   ]
  },
  {
   "cell_type": "code",
   "execution_count": 7,
   "metadata": {
    "collapsed": false
   },
   "outputs": [],
   "source": [
    "current_path = os.getcwd()\n",
    "os.chdir(current_path)"
   ]
  },
  {
   "cell_type": "markdown",
   "metadata": {},
   "source": [
    "# 1. Setup Training / Test Data"
   ]
  },
  {
   "cell_type": "markdown",
   "metadata": {},
   "source": [
    "### A. Load MNIST Dataset"
   ]
  },
  {
   "cell_type": "markdown",
   "metadata": {},
   "source": [
    "### X data (features)"
   ]
  },
  {
   "cell_type": "code",
   "execution_count": 8,
   "metadata": {
    "collapsed": false
   },
   "outputs": [
    {
     "name": "stdout",
     "output_type": "stream",
     "text": [
      "X_train shape: (60000, 28, 28, 1)\n",
      "60000 train samples\n",
      "10000 test samples\n",
      "Input layer shape: (28, 28, 1)\n"
     ]
    }
   ],
   "source": [
    "#image rows, cols\n",
    "img_rows = 28\n",
    "img_cols = 28\n",
    "\n",
    "# the data, shuffled and split between train and test sets\n",
    "(X_train, y_train), (X_test, y_test) = mnist.load_data()\n",
    "X_train = X_train.reshape(X_train.shape[0], img_rows, img_cols, 1)\n",
    "X_test = X_test.reshape(X_test.shape[0], img_rows, img_cols, 1)\n",
    "\n",
    "# Set input layer shape\n",
    "input_shape = (img_rows, img_cols, 1)\n",
    "\n",
    "# Set data type\n",
    "X_train = X_train.astype('float32')\n",
    "X_test = X_test.astype('float32')\n",
    "\n",
    "# Normalize values\n",
    "X_train /= 255\n",
    "X_test /= 255\n",
    "\n",
    "\n",
    "print('X_train shape:', X_train.shape)\n",
    "print(X_train.shape[0], 'train samples')\n",
    "print(X_test.shape[0], 'test samples')\n",
    "print(\"Input layer shape:\", input_shape)"
   ]
  },
  {
   "cell_type": "markdown",
   "metadata": {},
   "source": [
    "### Y data (labels)"
   ]
  },
  {
   "cell_type": "code",
   "execution_count": 9,
   "metadata": {
    "collapsed": false
   },
   "outputs": [],
   "source": [
    "num_classes = 10\n",
    "\n",
    "# Convert y_train and y_test to categorical datatypes\n",
    "Y_train = keras.utils.to_categorical(y_train, num_classes)\n",
    "Y_test = keras.utils.to_categorical(y_test, num_classes)"
   ]
  },
  {
   "cell_type": "markdown",
   "metadata": {},
   "source": [
    "# 2. Construct Model"
   ]
  },
  {
   "cell_type": "markdown",
   "metadata": {},
   "source": [
    "### i. Setup Create New Model Function"
   ]
  },
  {
   "cell_type": "code",
   "execution_count": 10,
   "metadata": {
    "collapsed": false
   },
   "outputs": [],
   "source": [
    "def create_new_model():\n",
    "    \n",
    "    # Instantiate sequential model\n",
    "    model = Sequential()\n",
    "    \n",
    "    # Conv layer 1\n",
    "    model.add(Conv2D(filters=32, kernel_size=(3, 3), padding='valid', input_shape=input_shape, data_format = \"channels_last\"))\n",
    "    \n",
    "    # Activation 1\n",
    "    model.add(Activation('relu'))\n",
    "    \n",
    "    # Conv layer 2\n",
    "    model.add(Conv2D(filters=32, kernel_size=(3, 3), padding='valid', data_format = \"channels_last\"))\n",
    "    \n",
    "    # Activation 2\n",
    "    model.add(Activation('relu'))\n",
    "    \n",
    "    # Pooling layer - max\n",
    "    model.add(MaxPooling2D(pool_size=(2, 2), padding='valid', data_format = \"channels_last\"))\n",
    "    \n",
    "    # Dropout layer 1\n",
    "    model.add(Dropout(0.25))\n",
    "    \n",
    "    # Flatten\n",
    "    model.add(Flatten())\n",
    "    \n",
    "    # Fully Connected Layer 1\n",
    "    model.add(Dense(128))\n",
    "    \n",
    "    # Activation 3\n",
    "    model.add(Activation('relu'))\n",
    "    \n",
    "    # Dropout layer 2\n",
    "    model.add(Dropout(0.5))\n",
    "    \n",
    "    # Fully connected layer 2\n",
    "    model.add(Dense(num_classes))\n",
    "    \n",
    "    # Softmax activation\n",
    "    model.add(Activation('softmax'))\n",
    "\n",
    "    # Compile model\n",
    "    model.compile(loss='categorical_crossentropy', optimizer=RMSprop(), metrics=['accuracy'])\n",
    "    \n",
    "    # Print summary\n",
    "    print(model.summary())\n",
    "    \n",
    "    return model"
   ]
  },
  {
   "cell_type": "markdown",
   "metadata": {},
   "source": [
    "## A. Generate Models"
   ]
  },
  {
   "cell_type": "code",
   "execution_count": 11,
   "metadata": {
    "collapsed": false
   },
   "outputs": [
    {
     "name": "stdout",
     "output_type": "stream",
     "text": [
      "_________________________________________________________________\n",
      "Layer (type)                 Output Shape              Param #   \n",
      "=================================================================\n",
      "conv2d_1 (Conv2D)            (None, 26, 26, 32)        320       \n",
      "_________________________________________________________________\n",
      "activation_1 (Activation)    (None, 26, 26, 32)        0         \n",
      "_________________________________________________________________\n",
      "conv2d_2 (Conv2D)            (None, 24, 24, 32)        9248      \n",
      "_________________________________________________________________\n",
      "activation_2 (Activation)    (None, 24, 24, 32)        0         \n",
      "_________________________________________________________________\n",
      "max_pooling2d_1 (MaxPooling2 (None, 12, 12, 32)        0         \n",
      "_________________________________________________________________\n",
      "dropout_1 (Dropout)          (None, 12, 12, 32)        0         \n",
      "_________________________________________________________________\n",
      "flatten_1 (Flatten)          (None, 4608)              0         \n",
      "_________________________________________________________________\n",
      "dense_1 (Dense)              (None, 128)               589952    \n",
      "_________________________________________________________________\n",
      "activation_3 (Activation)    (None, 128)               0         \n",
      "_________________________________________________________________\n",
      "dropout_2 (Dropout)          (None, 128)               0         \n",
      "_________________________________________________________________\n",
      "dense_2 (Dense)              (None, 10)                1290      \n",
      "_________________________________________________________________\n",
      "activation_4 (Activation)    (None, 10)                0         \n",
      "=================================================================\n",
      "Total params: 600,810.0\n",
      "Trainable params: 600,810.0\n",
      "Non-trainable params: 0.0\n",
      "_________________________________________________________________\n",
      "None\n"
     ]
    }
   ],
   "source": [
    "model = create_new_model()"
   ]
  },
  {
   "cell_type": "markdown",
   "metadata": {},
   "source": [
    "# 3. Train Models"
   ]
  },
  {
   "cell_type": "markdown",
   "metadata": {},
   "source": [
    "### i. Setup Train Parameters"
   ]
  },
  {
   "cell_type": "code",
   "execution_count": 12,
   "metadata": {
    "collapsed": false
   },
   "outputs": [],
   "source": [
    "MODEL_ARCH_FILEPATH = 'models/model.json'\n",
    "WEIGHTS_FILEPATH=\"models/weights/weights-improvement-epoch_{epoch:02d}-acc_{val_acc:.2f}.hdf5\"\n",
    "\n",
    "batch_size = 128\n",
    "nb_epoch = 10"
   ]
  },
  {
   "cell_type": "markdown",
   "metadata": {},
   "source": [
    "#### Callbacks"
   ]
  },
  {
   "cell_type": "code",
   "execution_count": 13,
   "metadata": {
    "collapsed": true
   },
   "outputs": [],
   "source": [
    "# Model saving callback\n",
    "checkpointer = ModelCheckpoint(filepath=WEIGHTS_FILEPATH, monitor='val_acc', verbose=1, save_best_only=False, mode='max')\n",
    "\n",
    "# Early stopping\n",
    "early_stopping = EarlyStopping(monitor='val_acc', verbose=1, patience=5)"
   ]
  },
  {
   "cell_type": "markdown",
   "metadata": {},
   "source": [
    "### A. Train"
   ]
  },
  {
   "cell_type": "code",
   "execution_count": 14,
   "metadata": {
    "collapsed": false,
    "scrolled": true
   },
   "outputs": [
    {
     "name": "stdout",
     "output_type": "stream",
     "text": [
      "Train on 60000 samples, validate on 10000 samples\n",
      "Epoch 1/10\n",
      "59904/60000 [============================>.] - ETA: 0s - loss: 0.2467 - acc: 0.9250Epoch 00000: saving model to models/weights/weights-improvement-epoch_00-acc_0.98.hdf5\n",
      "60000/60000 [==============================] - 87s - loss: 0.2466 - acc: 0.9251 - val_loss: 0.0593 - val_acc: 0.9804\n",
      "Epoch 2/10\n",
      "59904/60000 [============================>.] - ETA: 0s - loss: 0.0904 - acc: 0.9736Epoch 00001: saving model to models/weights/weights-improvement-epoch_01-acc_0.99.hdf5\n",
      "60000/60000 [==============================] - 79s - loss: 0.0905 - acc: 0.9736 - val_loss: 0.0432 - val_acc: 0.9854\n",
      "Epoch 3/10\n",
      "59904/60000 [============================>.] - ETA: 0s - loss: 0.0706 - acc: 0.9794Epoch 00002: saving model to models/weights/weights-improvement-epoch_02-acc_0.99.hdf5\n",
      "60000/60000 [==============================] - 84s - loss: 0.0706 - acc: 0.9794 - val_loss: 0.0402 - val_acc: 0.9873\n",
      "Epoch 4/10\n",
      "59904/60000 [============================>.] - ETA: 0s - loss: 0.0591 - acc: 0.9826Epoch 00003: saving model to models/weights/weights-improvement-epoch_03-acc_0.99.hdf5\n",
      "60000/60000 [==============================] - 82s - loss: 0.0591 - acc: 0.9826 - val_loss: 0.0338 - val_acc: 0.9889\n",
      "Epoch 5/10\n",
      "59904/60000 [============================>.] - ETA: 0s - loss: 0.0540 - acc: 0.9844Epoch 00004: saving model to models/weights/weights-improvement-epoch_04-acc_0.99.hdf5\n",
      "60000/60000 [==============================] - 82s - loss: 0.0539 - acc: 0.9844 - val_loss: 0.0324 - val_acc: 0.9902\n",
      "Epoch 6/10\n",
      "59904/60000 [============================>.] - ETA: 0s - loss: 0.0497 - acc: 0.9853Epoch 00005: saving model to models/weights/weights-improvement-epoch_05-acc_0.99.hdf5\n",
      "60000/60000 [==============================] - 81s - loss: 0.0496 - acc: 0.9853 - val_loss: 0.0318 - val_acc: 0.9901\n",
      "Epoch 7/10\n",
      "59904/60000 [============================>.] - ETA: 0s - loss: 0.0480 - acc: 0.9857Epoch 00006: saving model to models/weights/weights-improvement-epoch_06-acc_0.99.hdf5\n",
      "60000/60000 [==============================] - 81s - loss: 0.0480 - acc: 0.9857 - val_loss: 0.0346 - val_acc: 0.9894\n",
      "Epoch 8/10\n",
      "59904/60000 [============================>.] - ETA: 0s - loss: 0.0448 - acc: 0.9870Epoch 00007: saving model to models/weights/weights-improvement-epoch_07-acc_0.99.hdf5\n",
      "60000/60000 [==============================] - 81s - loss: 0.0448 - acc: 0.9870 - val_loss: 0.0316 - val_acc: 0.9893\n",
      "Epoch 9/10\n",
      "59904/60000 [============================>.] - ETA: 0s - loss: 0.0435 - acc: 0.9871Epoch 00008: saving model to models/weights/weights-improvement-epoch_08-acc_0.99.hdf5\n",
      "60000/60000 [==============================] - 81s - loss: 0.0435 - acc: 0.9871 - val_loss: 0.0303 - val_acc: 0.9904\n",
      "Epoch 10/10\n",
      "59904/60000 [============================>.] - ETA: 0s - loss: 0.0437 - acc: 0.9871Epoch 00009: saving model to models/weights/weights-improvement-epoch_09-acc_0.99.hdf5\n",
      "60000/60000 [==============================] - 82s - loss: 0.0437 - acc: 0.9871 - val_loss: 0.0315 - val_acc: 0.9907\n"
     ]
    },
    {
     "data": {
      "text/plain": [
       "<keras.callbacks.History at 0x12e9cae10>"
      ]
     },
     "execution_count": 14,
     "metadata": {},
     "output_type": "execute_result"
    }
   ],
   "source": [
    "# Train\n",
    "model.fit(X_train, Y_train, batch_size=batch_size, epochs=nb_epoch, verbose=1,\n",
    "          callbacks=[checkpointer, early_stopping], \n",
    "          validation_data=(X_test, Y_test))\n"
   ]
  },
  {
   "cell_type": "markdown",
   "metadata": {},
   "source": [
    "### B. Evaluate"
   ]
  },
  {
   "cell_type": "code",
   "execution_count": 15,
   "metadata": {
    "collapsed": false
   },
   "outputs": [
    {
     "name": "stdout",
     "output_type": "stream",
     "text": [
      "Test score: 0.0315001722982\n",
      "Test accuracy: 0.9907\n"
     ]
    }
   ],
   "source": [
    "score = model.evaluate(X_test, Y_test, verbose=0)\n",
    "print('Test score:', score[0])\n",
    "print('Test accuracy:', score[1])"
   ]
  },
  {
   "cell_type": "markdown",
   "metadata": {},
   "source": [
    "# 4. Save model architecture"
   ]
  },
  {
   "cell_type": "code",
   "execution_count": 16,
   "metadata": {
    "collapsed": true
   },
   "outputs": [],
   "source": [
    "with open(MODEL_ARCH_FILEPATH, 'w') as f:\n",
    "    f.write(model.to_json())"
   ]
  },
  {
   "cell_type": "markdown",
   "metadata": {},
   "source": [
    "## References"
   ]
  },
  {
   "cell_type": "markdown",
   "metadata": {},
   "source": [
    "- Conv2DTranspose\n",
    "https://keras.io/layers/convolutional/#conv2dtranspose\n",
    "\n",
    "- Discussion on deconv:\n",
    "http://stackoverflow.com/questions/39018767/deconvolution2d-layer-in-keras\n",
    "\n",
    "- Deconv\n",
    "https://github.com/fchollet/keras/blob/master/examples/variational_autoencoder_deconv.py\n",
    "\n",
    "- Deconv and unpooling\n",
    "https://github.com/fchollet/keras/issues/378\n",
    "\n",
    "- Images\n",
    "https://github.com/fchollet/keras/issues/3003\n",
    "\n",
    "- Github from NN ML last semester\n",
    "https://github.com/ssukumar/CSCI5622/blob/master/nnet_temp.py\n",
    "\n",
    "- Functional API Guide\n",
    "https://keras.io/getting-started/functional-api-guide/\n",
    "\n",
    "- CNNs\n",
    "https://cambridgespark.com/content/tutorials/convolutional-neural-networks-with-keras/index.html"
   ]
  }
 ],
 "metadata": {
  "anaconda-cloud": {},
  "kernelspec": {
   "display_name": "Python [default]",
   "language": "python",
   "name": "python3"
  },
  "language_info": {
   "codemirror_mode": {
    "name": "ipython",
    "version": 3
   },
   "file_extension": ".py",
   "mimetype": "text/x-python",
   "name": "python",
   "nbconvert_exporter": "python",
   "pygments_lexer": "ipython3",
   "version": "3.5.2"
  }
 },
 "nbformat": 4,
 "nbformat_minor": 1
}
