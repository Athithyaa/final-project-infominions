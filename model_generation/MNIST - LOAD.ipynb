{
 "cells": [
  {
   "cell_type": "markdown",
   "metadata": {},
   "source": [
    "# Import Libraries"
   ]
  },
  {
   "cell_type": "code",
   "execution_count": 1,
   "metadata": {
    "collapsed": false
   },
   "outputs": [
    {
     "name": "stderr",
     "output_type": "stream",
     "text": [
      "Using TensorFlow backend.\n"
     ]
    }
   ],
   "source": [
    "from keras.datasets import mnist \n",
    "from keras.models import Model \n",
    "from keras.layers import Input, Convolution2D, MaxPooling2D, Dense, Dropout, Activation, Flatten\n",
    "from keras.utils import np_utils \n",
    "from keras.layers.core import Activation\n",
    "from keras.callbacks import EarlyStopping, ModelCheckpoint\n",
    "\n",
    "from keras.models import model_from_json\n",
    "import codecs\n",
    "\n",
    "import numpy as np\n",
    "import json\n",
    "import matplotlib.pyplot as plt\n",
    "import scipy.misc"
   ]
  },
  {
   "cell_type": "code",
   "execution_count": 2,
   "metadata": {
    "collapsed": true
   },
   "outputs": [],
   "source": [
    "%matplotlib inline"
   ]
  },
  {
   "cell_type": "markdown",
   "metadata": {},
   "source": [
    "# Model Parameters"
   ]
  },
  {
   "cell_type": "code",
   "execution_count": 3,
   "metadata": {
    "collapsed": true
   },
   "outputs": [],
   "source": [
    "TESTING = True\n",
    "SAVE_FILTER_JPG = False\n",
    "PLOT = False   # Plot filter images?\n",
    "CMAP_ON = True # CMAP on for saving files?"
   ]
  },
  {
   "cell_type": "code",
   "execution_count": 4,
   "metadata": {
    "collapsed": true
   },
   "outputs": [],
   "source": [
    "batch_size = 128     # in each iteration, we consider 32 training examples at once\n",
    "kernel_size = 3      # we will use 3x3 kernels throughout\n",
    "pool_size = 2        # we will use 2x2 pooling throughout\n",
    "conv_depth_1 = 8     # 8 kernels in initial conv layers\n",
    "conv_depth_2 = 8     # 16 kernels in later conv layers\n",
    "drop_prob_1 = 0.25   # Dropout rate used for all dropout layers in variable network section\n",
    "drop_prob_2 = 0.5    # Dropout rate used at end of network\n",
    "hidden_size = 512    # the FC layer will have 512 neurons\n",
    "\n",
    "\n",
    "total_training_epochs = 2 if TESTING else 10\n",
    "fit_validation_split = 0.8 if TESTING else 0.1"
   ]
  },
  {
   "cell_type": "code",
   "execution_count": 5,
   "metadata": {
    "collapsed": true
   },
   "outputs": [],
   "source": [
    "cmap = plt.get_cmap('jet')"
   ]
  },
  {
   "cell_type": "markdown",
   "metadata": {},
   "source": [
    "## Architectures"
   ]
  },
  {
   "cell_type": "code",
   "execution_count": 6,
   "metadata": {
    "collapsed": false
   },
   "outputs": [],
   "source": [
    "arch_1 = [\"conv_relu\", \"maxpool\", \"dropout\"]\n",
    "arch_2 = [\"conv_relu\", \"maxpool\", \"dropout\", \"conv_relu\", \"maxpool\", \"dropout\"]\n",
    "arch_3 = [\"conv_relu\", \"conv_relu\", \"maxpool\", \"dropout\"]\n",
    "\n",
    "full_architectures = [arch_1, arch_2, arch_3]\n",
    "TESTING_architectures = [arch_1, arch_2]\n",
    "\n",
    "architectures = TESTING_architectures if TESTING else full_architectures"
   ]
  },
  {
   "cell_type": "markdown",
   "metadata": {},
   "source": [
    "## Hyperparameters"
   ]
  },
  {
   "cell_type": "markdown",
   "metadata": {},
   "source": [
    "# Load Data"
   ]
  },
  {
   "cell_type": "code",
   "execution_count": 7,
   "metadata": {
    "collapsed": false
   },
   "outputs": [],
   "source": [
    "(X_train, y_train), (X_test, y_test) = mnist.load_data() # fetch CIFAR-10 data\n",
    "\n",
    "depth = 1\n",
    "num_train, height, width = X_train.shape # there are 50000 training examples in CIFAR-10 \n",
    "num_test = X_test.shape[0] # there are 10000 test examples in CIFAR-10\n",
    "num_classes = np.unique(y_train).shape[0] # there are 10 image classes\n",
    "\n",
    "X_train = X_train.astype('float32') \n",
    "X_test = X_test.astype('float32')\n",
    "X_train /= np.max(X_train) # Normalise data to [0, 1] range\n",
    "X_test /= np.max(X_test) # Normalise data to [0, 1] range\n",
    "\n",
    "Y_train = np_utils.to_categorical(y_train, num_classes) # One-hot encode the labels\n",
    "Y_test = np_utils.to_categorical(y_test, num_classes) # One-hot encode the labels"
   ]
  },
  {
   "cell_type": "markdown",
   "metadata": {},
   "source": [
    "### Reshape X data from (28, 28) to (28, 28, 1) for proper network feeding"
   ]
  },
  {
   "cell_type": "code",
   "execution_count": 8,
   "metadata": {
    "collapsed": false
   },
   "outputs": [],
   "source": [
    "X_train = X_train.reshape(X_train.shape[0], X_train.shape[1], X_train.shape[2], 1)\n",
    "X_test = X_test.reshape(X_test.shape[0], X_test.shape[1], X_test.shape[2], 1)"
   ]
  },
  {
   "cell_type": "markdown",
   "metadata": {},
   "source": [
    "### Conv2D hyper-parameters"
   ]
  },
  {
   "cell_type": "code",
   "execution_count": 9,
   "metadata": {
    "collapsed": true
   },
   "outputs": [],
   "source": [
    "kernel_sizes = [3, 5]"
   ]
  },
  {
   "cell_type": "markdown",
   "metadata": {},
   "source": [
    "# Load model"
   ]
  },
  {
   "cell_type": "code",
   "execution_count": 10,
   "metadata": {
    "collapsed": false
   },
   "outputs": [],
   "source": [
    "def load_model(model_name):\n",
    "    \n",
    "    # Load model architecture\n",
    "    json_file = open('models/final_models/{0}/{0}_arch.json'.format(model_name, 'r'))\n",
    "    loaded_model_json = json_file.read()\n",
    "    json_file.close()\n",
    "    loaded_model = model_from_json(loaded_model_json)\n",
    "                     \n",
    "    # load weights into new model\n",
    "    loaded_model.load_weights(\"models/final_models/{0}/{0}_weights.h5\".format(model_name))\n",
    "    print(\"Loaded {} from disk.\".format(model_name))\n",
    "\n",
    "    # Compile model\n",
    "    loaded_model.compile(loss='categorical_crossentropy', # using the cross-entropy loss function\n",
    "                          optimizer='adam', # using the Adam optimiser\n",
    "                          metrics=['accuracy']) # reporting the accuracy\n",
    "    \n",
    "    return loaded_model\n"
   ]
  },
  {
   "cell_type": "code",
   "execution_count": 11,
   "metadata": {
    "collapsed": false
   },
   "outputs": [
    {
     "name": "stdout",
     "output_type": "stream",
     "text": [
      "Loaded model_0 from disk.\n",
      "Loaded model_1 from disk.\n",
      "Loaded model_2 from disk.\n",
      "Loaded model_3 from disk.\n"
     ]
    }
   ],
   "source": [
    "loaded_models = {}\n",
    "for model_id in range(4):\n",
    "    model_name = \"model_{}\".format(model_id)\n",
    "    loaded_models[model_name] = {\"model\" : load_model(model_name)}\n"
   ]
  },
  {
   "cell_type": "markdown",
   "metadata": {},
   "source": [
    "## Setup Test Image for Filter Generation"
   ]
  },
  {
   "cell_type": "code",
   "execution_count": 12,
   "metadata": {
    "collapsed": false
   },
   "outputs": [],
   "source": [
    "test_images = []\n",
    "label = -9999\n",
    "for label_i in range(10):\n",
    "    while label_i != label:\n",
    "        test_image_index = np.random.randint(0, len(Y_test) - 1)\n",
    "        e = Y_test[test_image_index]\n",
    "        label = int(np.where(e == 1)[0])\n",
    "    \n",
    "    X_test_image = X_test[test_image_index]\n",
    "    X_test_image = X_test_image.reshape(X_test_image.shape[0], X_test_image.shape[1])\n",
    "    \n",
    "    test_images.append((test_image_index, X_test_image, label))\n",
    "    \n",
    "    "
   ]
  },
  {
   "cell_type": "code",
   "execution_count": 13,
   "metadata": {
    "collapsed": false
   },
   "outputs": [
    {
     "data": {
      "text/plain": [
       "<matplotlib.image.AxesImage at 0x1325426a0>"
      ]
     },
     "execution_count": 13,
     "metadata": {},
     "output_type": "execute_result"
    },
    {
     "data": {
      "image/png": "[encoded data removed]",
      "text/plain": [
       "<matplotlib.figure.Figure at 0x1325426d8>"
      ]
     },
     "metadata": {},
     "output_type": "display_data"
    }
   ],
   "source": [
    "test_image_index = np.random.randint(0, len(X_test) - 1)\n",
    "test_image = X_test[test_image_index]\n",
    "test_image = test_image.reshape(test_image.shape[0], test_image.shape[1])\n",
    "\n",
    "# Plot image\n",
    "imshow = plt.imshow\n",
    "plt.title(\"Test Image\")\n",
    "imshow(test_image)"
   ]
  },
  {
   "cell_type": "code",
   "execution_count": 14,
   "metadata": {
    "collapsed": true
   },
   "outputs": [],
   "source": [
    "def weights_to_json(data, file_path):\n",
    "   \n",
    "    # Dump json data\n",
    "    json.dump(data, codecs.open(file_path, 'w', encoding='utf-8'), separators=(',', ':'), sort_keys=True, indent=4)"
   ]
  },
  {
   "cell_type": "code",
   "execution_count": 15,
   "metadata": {
    "collapsed": true
   },
   "outputs": [],
   "source": [
    "def generate_filter_images(model, model_name, test_image_index, test_image, label):\n",
    "    \n",
    "    conv_layer_num = 0\n",
    "    for layer in model.layers:\n",
    "        layer_name = str(layer)\n",
    "        if \"Conv2D\" in layer_name:\n",
    "            conv_layer_num += 1\n",
    "            \n",
    "\n",
    "    # Generate conv layer names for accessing layers of TensorFlow model\n",
    "    conv_layer_names = [\"conv_{}\".format(i) for i in range(conv_layer_num)]\n",
    "\n",
    "    \n",
    "    # Iterate through conv names, accessing each conv layer\n",
    "    for conv_name in conv_layer_names:\n",
    "        \n",
    "\n",
    "        # Generate model for conv layer\n",
    "        conv_layer_model = Model(inputs=model.input,\n",
    "                                  outputs=model.get_layer(conv_name).output)\n",
    "\n",
    "        # Predict\n",
    "        conv_layer_out = conv_layer_model.predict(X_test)\n",
    "\n",
    "        # Find convolution layer depth \n",
    "        conv_depth = conv_depth_1 if conv_name == \"conv_0\" else conv_depth_2\n",
    "        \n",
    "\n",
    "        # Set list of filters in current conv layer\n",
    "        filters = [conv_layer_out[test_image_index,:,:,filt_id] for filt_id in range(conv_depth)]\n",
    "\n",
    "        for filter_id, conv_filter in enumerate(filters):\n",
    "\n",
    "            # Set filter name\n",
    "            filter_name = \"filter_{}\".format(filter_id)\n",
    "\n",
    "            # Set filter path\n",
    "            FILTER_FILEPATH = \"models/final_models/{}/conv_layers/label_{}/conv_layer_{}--filter_{}.jpg\".format(model_name, label, conv_name, filter_name)\n",
    "\n",
    "            # Determine color mapping of image save\n",
    "            save_filter = cmap(conv_filter) if CMAP_ON else conv_filter\n",
    "\n",
    "            # Write image to file\n",
    "            if SAVE_FILTER_JPG:\n",
    "                scipy.misc.toimage(save_filter).save(FILTER_FILEPATH)\n",
    "            \n",
    "            \n",
    "            save_filter.shape\n",
    "            \n",
    "#             # Write as JSON\n",
    "#             print(save_filter.shape)\n",
    "#             FILTER_JSON_FILEPATH = \"models/final_models/{}/conv_layers/label_{}/conv_layer_{}--filter_{}.json\".format(model_name, label, conv_name, filter_name)\n",
    "            \n",
    "#             weights_to_json(save_filter, FILTER_JSON_FILEPATH)\n",
    "\n",
    "            "
   ]
  },
  {
   "cell_type": "code",
   "execution_count": 16,
   "metadata": {
    "collapsed": false
   },
   "outputs": [],
   "source": [
    "model_test = loaded_models[\"model_0\"][\"model\"]\n",
    "# model_arch = loaded_models[\"model_0\"][\"arch\"]\n",
    "layer_name = \"conv_0\"\n",
    "\n",
    "conv_layer_num = 0\n",
    "relu_layer_num = 0\n",
    "maxpool_layer_num = 0\n",
    "layer_names = []\n",
    "for layer in model_test.layers:\n",
    "    layer_name = str(layer)\n",
    "    if \"Conv2D\" in layer_name:\n",
    "        layer_names.append(\"conv_{}\".format(conv_layer_num))\n",
    "        conv_layer_num += 1\n",
    "\n",
    "    elif \"MaxPooling2D\" in layer_name:\n",
    "\n",
    "        layer_names.append(\"maxpool_{}\".format(maxpool_layer_num))\n",
    "        maxpool_layer_num += 1\n",
    "\n",
    "    elif \"Dense\" in layer_name and relu_layer_num < 1:\n",
    "        layer_names.append(\"relu_{}\".format(relu_layer_num))\n",
    "        relu_layer_num += 1"
   ]
  },
  {
   "cell_type": "code",
   "execution_count": 17,
   "metadata": {
    "collapsed": false
   },
   "outputs": [
    {
     "data": {
      "text/plain": [
       "['conv_0', 'relu_0', 'maxpool_0']"
      ]
     },
     "execution_count": 17,
     "metadata": {},
     "output_type": "execute_result"
    }
   ],
   "source": [
    "layer_names"
   ]
  },
  {
   "cell_type": "code",
   "execution_count": 18,
   "metadata": {
    "collapsed": false
   },
   "outputs": [],
   "source": [
    "for layer_name in layer_names:\n",
    "    print(layer_name)\n",
    "    conv_layer_model = Model(inputs=model_test.input,\n",
    "                                 outputs=model_test.get_layer(layer_name).output)\n",
    "    conv_layer_out = conv_layer_model.predict(X_test)\n",
    "    \n",
    "    # Find convolution layer depth \n",
    "    conv_depth = 8\n",
    "\n",
    "\n",
    "    # Set list of filters in current conv layer\n",
    "    filters = [conv_layer_out[test_image_index,:,:,filt_id] for filt_id in range(conv_depth)]\n",
    "\n",
    "    for filter_id, conv_filter in enumerate(filters):\n",
    "\n",
    "        # Set filter name\n",
    "        filter_name = \"filter_{}\".format(filter_id)\n",
    "\n",
    "        # Set filter path\n",
    "        FILTER_FILEPATH = \"models/final_models/{}/conv_layers/label_{}/conv_layer_{}--filter_{}.jpg\".format(model_name, label, conv_name, filter_name)\n",
    "\n",
    "        # Determine color mapping of image save\n",
    "        save_filter = cmap(conv_filter) if CMAP_ON else conv_filter\n",
    "        print(save_filter.shape)"
   ]
  },
  {
   "cell_type": "code",
   "execution_count": 19,
   "metadata": {
    "collapsed": true
   },
   "outputs": [],
   "source": [
    "def generate_filter_images_backup(model, model_name, test_image_index, test_image, label):\n",
    "    \n",
    "    conv_layer_num = 0\n",
    "    relu_layer_num = 0\n",
    "    maxpool_layer_num = 0\n",
    "    layer_names = []\n",
    "    \n",
    "    for layer in model.layers:\n",
    "        layer_name = str(layer)\n",
    "        if \"Conv2D\" in layer_name:\n",
    "            layer_names.append(\"conv_{}\".format(conv_layer_num))\n",
    "            conv_layer_num += 1\n",
    "            \n",
    "        elif \"MaxPooling2D\" in layer_name:\n",
    "\n",
    "            layer_names.append(\"maxpool_{}\".format(conv_layer_num))\n",
    "            maxpool_layer_num += 1\n",
    "\n",
    "        elif \"Dense\" in layer_name and relu_layer_num < 2:\n",
    "            layer_names.append(\"relu_{}\".format(relu_layer_num))\n",
    "            relu_layer_num += 1\n",
    "            \n",
    "            \n",
    "\n",
    "    # Generate conv layer names for accessing layers of TensorFlow model\n",
    "    conv_layer_names = [\"conv_{}\".format(i) for i in range(conv_layer_num)]\n",
    "\n",
    "    \n",
    "    # Iterate through conv names, accessing each conv layer\n",
    "    for conv_name in conv_layer_names:\n",
    "        \n",
    "\n",
    "        # Generate model for conv layer\n",
    "        conv_layer_model = Model(inputs=model.input,\n",
    "                                  outputs=model.get_layer(conv_name).output)\n",
    "\n",
    "        # Predict\n",
    "        conv_layer_out = conv_layer_model.predict(X_test)\n",
    "\n",
    "        # Find convolution layer depth \n",
    "        conv_depth = conv_depth_1 if conv_name == \"conv_0\" else conv_depth_2\n",
    "        \n",
    "\n",
    "        # Set list of filters in current conv layer\n",
    "        filters = [conv_layer_out[test_image_index,:,:,filt_id] for filt_id in range(conv_depth)]\n",
    "\n",
    "        for filter_id, conv_filter in enumerate(filters):\n",
    "\n",
    "            # Set filter name\n",
    "            filter_name = \"filter_{}\".format(filter_id)\n",
    "\n",
    "            # Set filter path\n",
    "            FILTER_FILEPATH = \"models/final_models/{}/conv_layers/label_{}/conv_layer_{}--filter_{}.jpg\".format(model_name, label, conv_name, filter_name)\n",
    "\n",
    "            # Determine color mapping of image save\n",
    "            save_filter = cmap(conv_filter) if CMAP_ON else conv_filter\n",
    "\n",
    "            # Write image to file\n",
    "            if SAVE_FILTER_JPG:\n",
    "                scipy.misc.toimage(save_filter).save(FILTER_FILEPATH)\n",
    "            \n",
    "            \n",
    "          \n",
    "            \n",
    "#             # Write as JSON\n",
    "#             print(save_filter.shape)\n",
    "#             FILTER_JSON_FILEPATH = \"models/final_models/{}/conv_layers/label_{}/conv_layer_{}--filter_{}.json\".format(model_name, label, conv_name, filter_name)\n",
    "            \n",
    "#             weights_to_json(save_filter, FILTER_JSON_FILEPATH)\n",
    "\n",
    "            "
   ]
  },
  {
   "cell_type": "code",
   "execution_count": 20,
   "metadata": {
    "collapsed": true
   },
   "outputs": [],
   "source": [
    "for model_name, model_obj in loaded_models.items():\n",
    "    current_model = model_obj[\"model\"]\n",
    "    \n",
    "    for test_image_index, test_image, label in test_images:\n",
    "        generate_filter_images_backup(current_model, model_name, test_image_index, test_image, label)"
   ]
  },
  {
   "cell_type": "code",
   "execution_count": 21,
   "metadata": {
    "collapsed": false
   },
   "outputs": [],
   "source": [
    "# for model_name, model_obj in loaded_models.items():\n",
    "#     current_model = model_obj[\"model\"]\n",
    "    \n",
    "#     for test_image_index, test_image, label in test_images:\n",
    "#         generate_filter_images(current_model, model_name, test_image_index, test_image, label)"
   ]
  },
  {
   "cell_type": "markdown",
   "metadata": {},
   "source": [
    "<hr>\n"
   ]
  },
  {
   "cell_type": "markdown",
   "metadata": {},
   "source": [
    "<hr>\n"
   ]
  },
  {
   "cell_type": "markdown",
   "metadata": {},
   "source": [
    "<hr>\n"
   ]
  },
  {
   "cell_type": "markdown",
   "metadata": {},
   "source": [
    "<hr>\n"
   ]
  },
  {
   "cell_type": "markdown",
   "metadata": {},
   "source": [
    "<hr>\n"
   ]
  },
  {
   "cell_type": "markdown",
   "metadata": {},
   "source": [
    "# Plot Test Image"
   ]
  },
  {
   "cell_type": "code",
   "execution_count": 22,
   "metadata": {
    "collapsed": false
   },
   "outputs": [],
   "source": [
    "test_image_index = np.random.randint(0, len(X_test) - 1)\n",
    "test_image = X_test[test_image_index]\n",
    "test_image = test_image.reshape(test_image.shape[0], test_image.shape[1])"
   ]
  },
  {
   "cell_type": "code",
   "execution_count": 23,
   "metadata": {
    "collapsed": false
   },
   "outputs": [
    {
     "data": {
      "text/plain": [
       "<matplotlib.image.AxesImage at 0x1325aad30>"
      ]
     },
     "execution_count": 23,
     "metadata": {},
     "output_type": "execute_result"
    },
    {
     "data": {
      "image/png": "[encoded data removed]",
      "text/plain": [
       "<matplotlib.figure.Figure at 0x132ad7a90>"
      ]
     },
     "metadata": {},
     "output_type": "display_data"
    }
   ],
   "source": [
    "imshow = plt.imshow #alias\n",
    "plt.title(\"Test Image\")\n",
    "imshow(test_image)"
   ]
  },
  {
   "cell_type": "markdown",
   "metadata": {},
   "source": [
    "# Setup Hidden Layer Filters"
   ]
  },
  {
   "cell_type": "code",
   "execution_count": 24,
   "metadata": {
    "collapsed": false
   },
   "outputs": [
    {
     "ename": "NameError",
     "evalue": "name 'new_model_out' is not defined",
     "output_type": "error",
     "traceback": [
      "\u001b[0;31m---------------------------------------------------------------------------\u001b[0m",
      "\u001b[0;31mNameError\u001b[0m                                 Traceback (most recent call last)",
      "\u001b[0;32m<ipython-input-24-529494c532bb>\u001b[0m in \u001b[0;36m<module>\u001b[0;34m()\u001b[0m\n\u001b[1;32m      1\u001b[0m \u001b[0mconv_depth\u001b[0m \u001b[0;34m=\u001b[0m \u001b[0mconv_depth_1\u001b[0m \u001b[0;32mif\u001b[0m \u001b[0;34m(\u001b[0m\u001b[0mlayer_name\u001b[0m \u001b[0;34m==\u001b[0m \u001b[0;34m\"conv_0\"\u001b[0m \u001b[0;32mor\u001b[0m \u001b[0mlayer_name\u001b[0m \u001b[0;34m==\u001b[0m \u001b[0;34m\"conv_1\"\u001b[0m\u001b[0;34m)\u001b[0m \u001b[0;32melse\u001b[0m \u001b[0mconv_depth_2\u001b[0m\u001b[0;34m\u001b[0m\u001b[0m\n\u001b[0;32m----> 2\u001b[0;31m \u001b[0mfilters\u001b[0m \u001b[0;34m=\u001b[0m \u001b[0;34m[\u001b[0m\u001b[0mnew_model_out\u001b[0m\u001b[0;34m[\u001b[0m\u001b[0mtest_image_index\u001b[0m\u001b[0;34m,\u001b[0m\u001b[0;34m:\u001b[0m\u001b[0;34m,\u001b[0m\u001b[0;34m:\u001b[0m\u001b[0;34m,\u001b[0m\u001b[0mfilt_id\u001b[0m\u001b[0;34m]\u001b[0m \u001b[0;32mfor\u001b[0m \u001b[0mfilt_id\u001b[0m \u001b[0;32min\u001b[0m \u001b[0mrange\u001b[0m\u001b[0;34m(\u001b[0m\u001b[0mconv_depth\u001b[0m\u001b[0;34m)\u001b[0m\u001b[0;34m]\u001b[0m\u001b[0;34m\u001b[0m\u001b[0m\n\u001b[0m",
      "\u001b[0;32m<ipython-input-24-529494c532bb>\u001b[0m in \u001b[0;36m<listcomp>\u001b[0;34m(.0)\u001b[0m\n\u001b[1;32m      1\u001b[0m \u001b[0mconv_depth\u001b[0m \u001b[0;34m=\u001b[0m \u001b[0mconv_depth_1\u001b[0m \u001b[0;32mif\u001b[0m \u001b[0;34m(\u001b[0m\u001b[0mlayer_name\u001b[0m \u001b[0;34m==\u001b[0m \u001b[0;34m\"conv_0\"\u001b[0m \u001b[0;32mor\u001b[0m \u001b[0mlayer_name\u001b[0m \u001b[0;34m==\u001b[0m \u001b[0;34m\"conv_1\"\u001b[0m\u001b[0;34m)\u001b[0m \u001b[0;32melse\u001b[0m \u001b[0mconv_depth_2\u001b[0m\u001b[0;34m\u001b[0m\u001b[0m\n\u001b[0;32m----> 2\u001b[0;31m \u001b[0mfilters\u001b[0m \u001b[0;34m=\u001b[0m \u001b[0;34m[\u001b[0m\u001b[0mnew_model_out\u001b[0m\u001b[0;34m[\u001b[0m\u001b[0mtest_image_index\u001b[0m\u001b[0;34m,\u001b[0m\u001b[0;34m:\u001b[0m\u001b[0;34m,\u001b[0m\u001b[0;34m:\u001b[0m\u001b[0;34m,\u001b[0m\u001b[0mfilt_id\u001b[0m\u001b[0;34m]\u001b[0m \u001b[0;32mfor\u001b[0m \u001b[0mfilt_id\u001b[0m \u001b[0;32min\u001b[0m \u001b[0mrange\u001b[0m\u001b[0;34m(\u001b[0m\u001b[0mconv_depth\u001b[0m\u001b[0;34m)\u001b[0m\u001b[0;34m]\u001b[0m\u001b[0;34m\u001b[0m\u001b[0m\n\u001b[0m",
      "\u001b[0;31mNameError\u001b[0m: name 'new_model_out' is not defined"
     ]
    }
   ],
   "source": [
    "conv_depth = conv_depth_1 if (layer_name == \"conv_0\" or layer_name == \"conv_1\") else conv_depth_2\n",
    "filters = [new_model_out[test_image_index,:,:,filt_id] for filt_id in range(conv_depth)]"
   ]
  },
  {
   "cell_type": "markdown",
   "metadata": {},
   "source": [
    "# Show Filters"
   ]
  },
  {
   "cell_type": "code",
   "execution_count": null,
   "metadata": {
    "collapsed": false
   },
   "outputs": [],
   "source": [
    "fig = plt.figure()\n",
    "\n",
    "for i in range(conv_depth):\n",
    "    filter_num = i+1\n",
    "    ax = plt.subplot(conv_depth//4+1, 4, filter_num)\n",
    "    \n",
    "    imshow = plt.imshow #alias\n",
    "    imshow(filters[i])\n",
    "#     imshow(filters[i], cmap=plt.get_cmap('gray'))\n",
    "    \n",
    "    ax.set_title(\"Filter: {}\".format(filter_num))\n",
    "    ax.set_xticks([])\n",
    "    ax.set_yticks([])\n",
    "    \n",
    "fig.set_figwidth(20)\n",
    "fig.set_figheight(20)"
   ]
  },
  {
   "cell_type": "markdown",
   "metadata": {},
   "source": [
    "<hr>\n"
   ]
  },
  {
   "cell_type": "markdown",
   "metadata": {},
   "source": [
    "<hr>\n"
   ]
  },
  {
   "cell_type": "markdown",
   "metadata": {},
   "source": [
    "<hr>\n"
   ]
  },
  {
   "cell_type": "markdown",
   "metadata": {},
   "source": [
    "<hr>\n"
   ]
  },
  {
   "cell_type": "markdown",
   "metadata": {},
   "source": [
    "# References"
   ]
  },
  {
   "cell_type": "markdown",
   "metadata": {},
   "source": [
    "https://keras.io/getting-started/faq/#how-can-i-obtain-the-output-of-an-intermediate-layer\n",
    "\n",
    "\n",
    "\n",
    "\n",
    "https://github.com/fchollet/keras/issues/431\n",
    "\n",
    "http://stackoverflow.com/questions/36745821/keras-1-0-getting-intermediate-layer-output/36789699#36789699\n",
    "\n",
    "https://github.com/fchollet/keras/issues/2417\n",
    "\n",
    "http://stackoverflow.com/questions/41911883/typeerror-tensor-object-is-not-callable"
   ]
  }
 ],
 "metadata": {
  "anaconda-cloud": {},
  "kernelspec": {
   "display_name": "Python [default]",
   "language": "python",
   "name": "python3"
  },
  "language_info": {
   "codemirror_mode": {
    "name": "ipython",
    "version": 3
   },
   "file_extension": ".py",
   "mimetype": "text/x-python",
   "name": "python",
   "nbconvert_exporter": "python",
   "pygments_lexer": "ipython3",
   "version": "3.5.2"
  }
 },
 "nbformat": 4,
 "nbformat_minor": 1
}
